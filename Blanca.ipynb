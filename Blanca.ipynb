{
 "cells": [
  {
   "cell_type": "markdown",
   "metadata": {},
   "source": [
    "## A frequency ranked list of economics vocabulary\n",
    "\n",
    "### Aim of project:\n",
    "To help a friend improve her economics specific English vocabulary in an efficient way. \n",
    "\n",
    "### End result of project:\n",
    "1. A <a href=\"https://github.com/pvonglehn/economics_vocab/blob/master/economics_vocab.txt\">list</a> of the most common, economics specific English words which don't have Spanish cognates. That is, words which are common in economics texts but uncommon in general texts and which cannot be easily guessed by a Spanish speaker. \n",
    "<br><br>\n",
    "2. Anki flashcards <a href=\"https://github.com/pvonglehn/economics_vocab/blob/master/Blanca.apkg\">deck</a> for studying these words with example sentences.\n",
    " "
   ]
  },
  {
   "cell_type": "markdown",
   "metadata": {},
   "source": [
    "\n",
    "### Problem:\n",
    "A friend is preparing for an English exam as part of her studies to become an economist for the civil service in Spain. Part of the exam will be based on an article from <a href=\"https://www.economist.com/\">'the economist'</a>, the International Monetary Fund <a href=\"https://www.imf.org/external/pubs/ft/fandd/\">finance and development magazine</a>, or a similar publication. She finds that she is lacking much of the economics specific vocabulary necessary to understand these articles. \n",
    "\n",
    "The classic strategy for improving vocabulary is to read a lot and look up words that you don't know. However, this approach is very inefficient. \n",
    "\n",
    "Let's consider an example.\n",
    "The student reads the sentence:<br>\n",
    "'Higher <strong>wages</strong> in China make <strong>offshoring</strong> less attractive.'\n",
    "\n",
    "The student may not know the meaning of 'wages' or 'offshoring' so their instinct might be to look up and learn both. What the student doesn't know however, is that while the word 'wage' is very common in financial texts and definitely worth learning,  the word 'offshoring' is much less common, so it is not worth the student's effort learning, at least as long as there are many more useful words they could learn first.\n",
    "\n",
    "The student should learn the most relevant words first, which is what this project aims to help with."
   ]
  },
  {
   "cell_type": "markdown",
   "metadata": {},
   "source": [
    "### Project results:\n",
    "\n",
    "Below is a table showing the first 10 words in the final list. The economics_rank indicates each word's rank based on its frequency of occurrence in the imf and 'the economist' magazines. This corpus was compiled during this project and consists of over four million tokens (words) from over 4000 articles. The general rank indicates the word's position on a list of 5000 English words ordered by their frequency of occurence in a large corpus constructed from a wide range of English texts. This list was downloaded from https://www.wordfrequency.info/ \n",
    "\n",
    "This list only contains words which are more common in the economics corpus than in general English, so 'stop words' like 'the','and' etc. don't appear. We can see that the top words in our list occur much more frequently in the economics corpus than in general English. This indicates that these words are very important to know in order to understand these texts, but students may not know them because they are relatively uncommon in general texts that they will mostly have been exposed to in their English studies. \n",
    "\n",
    "<br><em>A general_rank of 1000000 means that the word is not on the list from the general corpus.</em>\n"
   ]
  },
  {
   "cell_type": "code",
   "execution_count": 435,
   "metadata": {
    "scrolled": true
   },
   "outputs": [
    {
     "data": {
      "text/html": [
       "<div>\n",
       "<style scoped>\n",
       "    .dataframe tbody tr th:only-of-type {\n",
       "        vertical-align: middle;\n",
       "    }\n",
       "\n",
       "    .dataframe tbody tr th {\n",
       "        vertical-align: top;\n",
       "    }\n",
       "\n",
       "    .dataframe thead th {\n",
       "        text-align: right;\n",
       "    }\n",
       "</style>\n",
       "<table border=\"1\" class=\"dataframe\">\n",
       "  <thead>\n",
       "    <tr style=\"text-align: right;\">\n",
       "      <th></th>\n",
       "      <th>economics_rank</th>\n",
       "      <th>economics_freq</th>\n",
       "      <th>general_rank</th>\n",
       "    </tr>\n",
       "  </thead>\n",
       "  <tbody>\n",
       "    <tr>\n",
       "      <th>inbox</th>\n",
       "      <td>174</td>\n",
       "      <td>2781</td>\n",
       "      <td>1000000</td>\n",
       "    </tr>\n",
       "    <tr>\n",
       "      <th>upgrade</th>\n",
       "      <td>214</td>\n",
       "      <td>2410</td>\n",
       "      <td>1000000</td>\n",
       "    </tr>\n",
       "    <tr>\n",
       "      <th>debt</th>\n",
       "      <td>240</td>\n",
       "      <td>2163</td>\n",
       "      <td>1684</td>\n",
       "    </tr>\n",
       "    <tr>\n",
       "      <th>investor</th>\n",
       "      <td>311</td>\n",
       "      <td>1761</td>\n",
       "      <td>1536</td>\n",
       "    </tr>\n",
       "    <tr>\n",
       "      <th>asset</th>\n",
       "      <td>315</td>\n",
       "      <td>1714</td>\n",
       "      <td>1869</td>\n",
       "    </tr>\n",
       "    <tr>\n",
       "      <th>spending</th>\n",
       "      <td>329</td>\n",
       "      <td>1640</td>\n",
       "      <td>2082</td>\n",
       "    </tr>\n",
       "    <tr>\n",
       "      <th>currency</th>\n",
       "      <td>348</td>\n",
       "      <td>1487</td>\n",
       "      <td>3297</td>\n",
       "    </tr>\n",
       "    <tr>\n",
       "      <th>decline</th>\n",
       "      <td>349</td>\n",
       "      <td>1470</td>\n",
       "      <td>1790</td>\n",
       "    </tr>\n",
       "    <tr>\n",
       "      <th>revenue</th>\n",
       "      <td>421</td>\n",
       "      <td>1212</td>\n",
       "      <td>1514</td>\n",
       "    </tr>\n",
       "    <tr>\n",
       "      <th>wage</th>\n",
       "      <td>450</td>\n",
       "      <td>1131</td>\n",
       "      <td>2300</td>\n",
       "    </tr>\n",
       "  </tbody>\n",
       "</table>\n",
       "</div>"
      ],
      "text/plain": [
       "          economics_rank  economics_freq  general_rank\n",
       "inbox                174            2781       1000000\n",
       "upgrade              214            2410       1000000\n",
       "debt                 240            2163          1684\n",
       "investor             311            1761          1536\n",
       "asset                315            1714          1869\n",
       "spending             329            1640          2082\n",
       "currency             348            1487          3297\n",
       "decline              349            1470          1790\n",
       "revenue              421            1212          1514\n",
       "wage                 450            1131          2300"
      ]
     },
     "execution_count": 435,
     "metadata": {},
     "output_type": "execute_result"
    }
   ],
   "source": [
    "economics_vocab_no_cognates.head(10)"
   ]
  },
  {
   "cell_type": "markdown",
   "metadata": {},
   "source": [
    "### Removing words with Spanish cognates\n",
    "\n",
    "Below is the table including words with Spanish cognates. The meanings of 'percent', 'minister', 'sector' etc could all be easily guessed by a Spanish speaker. Of the top 1000 words on this list, 40% of the words have Spanish cognates, so it is really worth excluding them from our list to save the student's time and effort. "
   ]
  },
  {
   "cell_type": "code",
   "execution_count": 438,
   "metadata": {
    "scrolled": true
   },
   "outputs": [
    {
     "data": {
      "text/html": [
       "<div>\n",
       "<style scoped>\n",
       "    .dataframe tbody tr th:only-of-type {\n",
       "        vertical-align: middle;\n",
       "    }\n",
       "\n",
       "    .dataframe tbody tr th {\n",
       "        vertical-align: top;\n",
       "    }\n",
       "\n",
       "    .dataframe thead th {\n",
       "        text-align: right;\n",
       "    }\n",
       "</style>\n",
       "<table border=\"1\" class=\"dataframe\">\n",
       "  <thead>\n",
       "    <tr style=\"text-align: right;\">\n",
       "      <th></th>\n",
       "      <th>economics_rank</th>\n",
       "      <th>economics_freq</th>\n",
       "      <th>general_rank</th>\n",
       "      <th>spanish_cognate</th>\n",
       "    </tr>\n",
       "  </thead>\n",
       "  <tbody>\n",
       "    <tr>\n",
       "      <th>percent</th>\n",
       "      <td>157</td>\n",
       "      <td>2976</td>\n",
       "      <td>1000000</td>\n",
       "      <td>por ciento</td>\n",
       "    </tr>\n",
       "    <tr>\n",
       "      <th>inbox</th>\n",
       "      <td>174</td>\n",
       "      <td>2781</td>\n",
       "      <td>1000000</td>\n",
       "      <td>-</td>\n",
       "    </tr>\n",
       "    <tr>\n",
       "      <th>upgrade</th>\n",
       "      <td>214</td>\n",
       "      <td>2410</td>\n",
       "      <td>1000000</td>\n",
       "      <td>-</td>\n",
       "    </tr>\n",
       "    <tr>\n",
       "      <th>minister</th>\n",
       "      <td>224</td>\n",
       "      <td>2294</td>\n",
       "      <td>1711</td>\n",
       "      <td>ministro</td>\n",
       "    </tr>\n",
       "    <tr>\n",
       "      <th>debt</th>\n",
       "      <td>240</td>\n",
       "      <td>2163</td>\n",
       "      <td>1684</td>\n",
       "      <td>-</td>\n",
       "    </tr>\n",
       "    <tr>\n",
       "      <th>accord</th>\n",
       "      <td>253</td>\n",
       "      <td>2052</td>\n",
       "      <td>1000000</td>\n",
       "      <td>acuerdo</td>\n",
       "    </tr>\n",
       "    <tr>\n",
       "      <th>sector</th>\n",
       "      <td>298</td>\n",
       "      <td>1824</td>\n",
       "      <td>1767</td>\n",
       "      <td>sector</td>\n",
       "    </tr>\n",
       "    <tr>\n",
       "      <th>investor</th>\n",
       "      <td>311</td>\n",
       "      <td>1761</td>\n",
       "      <td>1536</td>\n",
       "      <td>-</td>\n",
       "    </tr>\n",
       "    <tr>\n",
       "      <th>asset</th>\n",
       "      <td>315</td>\n",
       "      <td>1714</td>\n",
       "      <td>1869</td>\n",
       "      <td>-</td>\n",
       "    </tr>\n",
       "    <tr>\n",
       "      <th>spending</th>\n",
       "      <td>329</td>\n",
       "      <td>1640</td>\n",
       "      <td>2082</td>\n",
       "      <td>-</td>\n",
       "    </tr>\n",
       "  </tbody>\n",
       "</table>\n",
       "</div>"
      ],
      "text/plain": [
       "          economics_rank  economics_freq  general_rank spanish_cognate\n",
       "percent              157            2976       1000000      por ciento\n",
       "inbox                174            2781       1000000               -\n",
       "upgrade              214            2410       1000000               -\n",
       "minister             224            2294          1711        ministro\n",
       "debt                 240            2163          1684               -\n",
       "accord               253            2052       1000000         acuerdo\n",
       "sector               298            1824          1767          sector\n",
       "investor             311            1761          1536               -\n",
       "asset                315            1714          1869               -\n",
       "spending             329            1640          2082               -"
      ]
     },
     "execution_count": 438,
     "metadata": {},
     "output_type": "execute_result"
    }
   ],
   "source": [
    "w_cognate.head(10)"
   ]
  },
  {
   "cell_type": "markdown",
   "metadata": {},
   "source": [
    "### Anki Flashcards\n",
    "\n",
    "Anki is a flashcard app that uses active recall testing and spaced repetition to help you learn almost anything very efficiently. The flash cards in this project contain three components: 1) A sentence in English with the word to be learned/tested highlighted in blue. 2) The translation of this word and of the full sentence in Spanish. 3) A dictionary entry with translations into Spanish.\n",
    "<br>\n",
    "<br>\n",
    "<img src=\"./images/Anki1.png\">\n",
    "<br>\n",
    "Above you can see the front of the flashcard, which asks the user to give the meaning of the word in blue. The user then has to guess the correct preposition (say it aloud or in your head - you don't type anything into Anki). And then press \"show answer\" to see if you are correct. \n",
    "<br>\n",
    "<br>\n",
    "<br>\n",
    "<br>\n",
    "<br>\n",
    "<br>\n",
    "<img src=\"./images/Anki2.png\">\n",
    "<br>\n",
    "When the \"show answer\" button is pressed, the Spanish translation or the single word and of the full phrase is given. If the user wants to they can click \"show definition\" to get a full dictionary definition of the card.\n",
    "<br>\n",
    "<br>\n",
    "<br>\n",
    "<br>\n",
    "<br>\n",
    "<br>\n",
    "<img src=\"./images/Anki3.png\">\n",
    "<br>\n",
    "The full dictionary definition is given. The dictionary information was scraped from the site http://www.spanishdict.com"
   ]
  },
  {
   "cell_type": "markdown",
   "metadata": {},
   "source": [
    "\n",
    "\n",
    "\n",
    "\n",
    "\n",
    "## Procedural overview\n",
    "\n",
    "1. Download the imf articles in Spanish and English\n",
    "2. Split the text into sentences and align Spanish and English sentence pairs\n",
    "3. Add sentences from the economist magazine to sentences\n",
    "4. Tokenize the sentences (split into words)\n",
    "5. Lemmatize the words (put into dictionary form e.g. running -> run)\n",
    "6. Rank all words by frequency\n",
    "7. Get a separate frequency ranked list of English words from a general corpus of English texts\n",
    "8. Get a list of Spanish-English cognates (e.g. la economía <-> the economy)\n",
    "9. Create our list of most common economics specific words without Spanish cognates \n",
    "10. Get dictionary entries with examples for each word by web scraping\n",
    "11. Extract examples from dictionary entries\n",
    "12. Make the Anki flash cards\n",
    "\n",
    "\n",
    "## Tools used\n",
    "Beautiful Soup for web scraping<br>\n",
    "NLTK for natural language processing<br>\n",
    "pandas for data manipulation<br> \n",
    "\n"
   ]
  },
  {
   "cell_type": "markdown",
   "metadata": {},
   "source": [
    "## To do/ improvements to be made/ features to add\n",
    "\n",
    "Include examples from the sentences aligned parallel corpus in the Anki cards\n",
    "\n",
    "\n",
    "Resolve issues caused by question marks in regular expressions when making the Anki deck\n"
   ]
  },
  {
   "cell_type": "markdown",
   "metadata": {},
   "source": [
    "## Getting the text corpus\n",
    "### Get a sentence aligned parallel corpus of imf magazine articles\n",
    "Fortunately, the imf published much of its material in mutliple languages. Having downloaded all of the articles from the beginning of 2009 to the end of 2017 in English and Spanish I then needed match up each English sentence with each Spanish sentence (for creating flash cards with examples later). The first step was to split up the articles into sentences using nltk package in python. I then used a external package called hunalign to match up each English sentences with its Spanish counterpart.\n",
    "\n",
    "\n",
    "hunalign:<br>\n",
    "https://github.com/danielvarga/hunalign<br>\n",
    "D. Varga, L. Németh, P. Halácsy, A. Kornai, V. Trón, V. Nagy (2005).<br>\n",
    "Parallel corpora for medium density languages<br>\n",
    "In Proceedings of the RANLP 2005<br>"
   ]
  },
  {
   "cell_type": "code",
   "execution_count": null,
   "metadata": {},
   "outputs": [],
   "source": [
    "import pandas as pd\n",
    "from bs4 import BeautifulSoup\n",
    "import requests\n",
    "import re\n",
    "import os\n",
    "import nltk"
   ]
  },
  {
   "cell_type": "markdown",
   "metadata": {},
   "source": [
    "### 1. Download the imf articles in Spanish and English"
   ]
  },
  {
   "cell_type": "code",
   "execution_count": 1727,
   "metadata": {},
   "outputs": [],
   "source": [
    "# Get the pdfs of the imf articles from 2009 to 2017 from the imf website\n",
    "\n",
    "cmd = \"mkdir pdfs\"\n",
    "os.system(cmd)\n",
    "for year in range(2009,2018):\n",
    "    for month in [\"03\",\"06\",\"09\",\"12\"]:\n",
    "        short_year = str(year)[-2:]\n",
    "        cmd = \"\"\"curl \"https://www.imf.org/external/pubs/ft/fandd/{}/{}/pdf/fd{}{}.pdf\" \\\n",
    "                --output ./pdfs/eng-{}-{}.pdf\"\"\".format(year,month,month,short_year,year,month)\n",
    "        os.system(cmd)\n",
    "        cmd = \"\"\"curl \"https://www.imf.org/external/pubs/ft/fandd/spa/{}/{}/pdf/fd{}{}s.pdf\" \\\n",
    "                --output ./pdfs/spa-{}-{}.pdf\"\"\".format(year,month,month,short_year,year,month)\n",
    "        os.system(cmd)"
   ]
  },
  {
   "cell_type": "markdown",
   "metadata": {},
   "source": [
    "### 2. Split the text into sentences and align Spanish and English sentence pairs"
   ]
  },
  {
   "cell_type": "code",
   "execution_count": 7,
   "metadata": {},
   "outputs": [
    {
     "name": "stdout",
     "output_type": "stream",
     "text": [
      "CPU times: user 2min 28s, sys: 2.15 s, total: 2min 30s\n",
      "Wall time: 5min 58s\n"
     ]
    }
   ],
   "source": [
    "# Create the sentences aligned parallel corpus\n",
    "\n",
    "%%time\n",
    "import pandas as pd\n",
    "import nltk\n",
    "import os\n",
    "sentence_df = pd.DataFrame({\"english\":[],\"spanish\":[]})\n",
    "cmd = \"rm -rf tmp ; mkdir tmp\"\n",
    "os.system(cmd)\n",
    "for year in range(2009,2018):\n",
    "    for month in [\"03\",\"06\",\"09\",\"12\"]:\n",
    "        \n",
    "        # convert the pdfs to raw text\n",
    "        cmd = \"\"\"xpdf-tools-mac-4.00/bin64/pdftotext \\\n",
    "        ./pdfs/eng-{}-{}.pdf  tmp/eng-{}-{}.txt\"\"\".format(year,month,year,month)\n",
    "        os.system(cmd)\n",
    "        cmd = \"\"\"xpdf-tools-mac-4.00/bin64/pdftotext \\\n",
    "        ./pdfs/spa-{}-{}.pdf  tmp/spa-{}-{}.txt\"\"\".format(year,month,year,month)\n",
    "        os.system(cmd)\n",
    "        e = open(\"tmp/eng-{}-{}.txt\".format(year,month),\"r\",encoding=\"Latin-1\").read()\n",
    "        s = open(\"tmp/spa-{}-{}.txt\".format(year,month),\"r\",encoding=\"Latin-1\").read()\n",
    "        \n",
    "        # split the texts into sentences\n",
    "        english_sentences = nltk.sent_tokenize(e)\n",
    "        spanish_sentences = nltk.sent_tokenize(s)\n",
    "        eo = open(\"tmp/sent-eng-{}-{}.txt\".format(year,month),\"w\")\n",
    "        for line in english_sentences:\n",
    "            eo.write((line+\"\\n\"))\n",
    "        eo.close()\n",
    "        so = open(\"tmp/sent-spa-{}-{}.txt\".format(year,month),\"w\")\n",
    "        for line in spanish_sentences:\n",
    "            so.write((line+\"\\n\"))\n",
    "        so.close()\n",
    "        \n",
    "        #Align the sentences with external package hunalign\n",
    "        cmd = \"\"\"hunalign/hunalign-1.2/src/hunalign/hunalign \\\n",
    "        hunalign/hunalign-1.2/data/null.dic \\\n",
    "        tmp/sent-eng-{}-{}.txt tmp/sent-spa-{}-{}.txt\\\n",
    "        -text -bisent > tmp/aligned-{}-{}.txt\"\"\".format(year,month,year,month,year,month)\n",
    "        os.system(cmd)\n",
    "\n",
    "        #put lines into dataframe\n",
    "        tmp_df = pd.DataFrame({\"english\":[],\"spanish\":[]})\n",
    "        lines = open(\"tmp/aligned-{}-{}.txt\".format(year,month),\"r\").readlines()\n",
    "        for line in lines:\n",
    "            sentences = line.split(\"\\t\")\n",
    "            eng = sentences[0]\n",
    "            spa = sentences[1]\n",
    "            tmp_df = tmp_df.append(pd.DataFrame({\"english\":[eng],\"spanish\":[spa]}))\n",
    "        sentence_df = sentence_df.append(tmp_df)\n",
    "        \n",
    "sentence_df.to_csv(\"imf_sentences.txt\",sep=\"\\t\",index=False,header=None)"
   ]
  },
  {
   "cell_type": "code",
   "execution_count": 386,
   "metadata": {},
   "outputs": [],
   "source": [
    "all_imf_sentences = pd.read_csv(\"imf_sentences.txt\",sep=\"\\t\",header=None)\n",
    "all_imf_sentences.columns = \"english\",\"spanish\"\n",
    "all_imf_sentences = all_imf_sentences.dropna(axis=0)"
   ]
  },
  {
   "cell_type": "code",
   "execution_count": 387,
   "metadata": {},
   "outputs": [],
   "source": [
    "long_imf_sentences = all_imf_sentences[all_imf_sentences['english'].apply(lambda x: len(x.split()) > 7)]"
   ]
  },
  {
   "cell_type": "code",
   "execution_count": 388,
   "metadata": {
    "scrolled": true
   },
   "outputs": [
    {
     "name": "stdout",
     "output_type": "stream",
     "text": [
      "sentence count = 46668\n",
      "total word count = 1005216\n",
      "mean words per sentence = 21.54\n"
     ]
    }
   ],
   "source": [
    "sentence_count = len(long_imf_sentences['english'])\n",
    "word_count = long_imf_sentences['english'].apply(lambda x : len(x.split())).sum()\n",
    "words_per_sentence = long_imf_sentences['english'].apply(lambda x : len(x.split())).mean()\n",
    "print(\"sentence count = {}\\ntotal word count = {}\\nmean words per sentence = {:.2f}\"\n",
    "      .format(sentence_count,word_count,words_per_sentence))\n",
    "      "
   ]
  },
  {
   "cell_type": "markdown",
   "metadata": {},
   "source": [
    "###  3. Add sentences from the economist magazine to corpus\n",
    "\n",
    "Adding words from a year's worth of articles from the economist magazine.  The imf articles were downloaded in pdf format from the imf website and the economist sentences were provided already in csv format by a friend. I am not including the raw economist data in this repository because I do not have permission to distribute it."
   ]
  },
  {
   "cell_type": "code",
   "execution_count": 390,
   "metadata": {},
   "outputs": [],
   "source": [
    "# I'm not adding the_economist.csv file to the github repository for this project because it\n",
    "# contains articles that require a subscription to access and I do not have permission to share them. \n",
    "the_economist = pd.read_csv(\"the_economist.csv\",encoding=\"Latin-1\")"
   ]
  },
  {
   "cell_type": "code",
   "execution_count": 391,
   "metadata": {},
   "outputs": [],
   "source": [
    "the_economist['words'] = the_economist['words'].str.replace(\"[',?]\",\"\")"
   ]
  },
  {
   "cell_type": "code",
   "execution_count": 392,
   "metadata": {},
   "outputs": [],
   "source": [
    "def sentence_break(text):\n",
    "    text = re.sub(\"\\[|\\]\",\"\",text)\n",
    "    for match in re.findall(\"\\D\\.\\s\",text):\n",
    "        try:\n",
    "            regex = match[0] + \"\\.\"\n",
    "            text = re.sub(regex,(regex[0] + \"\\t\"),text)\n",
    "        except:\n",
    "            continue\n",
    "\n",
    "    return text"
   ]
  },
  {
   "cell_type": "code",
   "execution_count": 393,
   "metadata": {},
   "outputs": [
    {
     "name": "stdout",
     "output_type": "stream",
     "text": [
      "CPU times: user 23.8 s, sys: 28.8 s, total: 52.6 s\n",
      "Wall time: 52.9 s\n"
     ]
    }
   ],
   "source": [
    "%%time\n",
    "tab_separated = the_economist['words'].apply(sentence_break).sum()\n",
    "split_sentences = tab_separated.split(\"\\t\")\n",
    "split_sentences = pd.Series(split_sentences)\n",
    "long_econ_sentences = split_sentences[split_sentences.apply(lambda x: len(x.split()) > 7)]"
   ]
  },
  {
   "cell_type": "code",
   "execution_count": 394,
   "metadata": {},
   "outputs": [],
   "source": [
    "# combine the economist and imf articles\n",
    "imf_econ = pd.concat([long_imf_sentences['english'],long_econ_sentences],axis=0)"
   ]
  },
  {
   "cell_type": "code",
   "execution_count": 397,
   "metadata": {},
   "outputs": [
    {
     "data": {
      "text/plain": [
       "14               SENIOR EDITORS Camilla Andersen Archana Kumar James Rowe Simon Willson\n",
       "15      ASSISTANT EDITORS Maureen Burke Sergio Negrete Cardenas Natalie Ramirez-Djumena\n",
       "18                 EDITORIAL ASSISTANTS Lijun Li Kelley McCollum Niccole Braynen-Kimani\n",
       "20    Periodicals postage is paid at Washington, DC, and at additional mailing offices.\n",
       "21            The English edition is printed at United Lithographers Inc., Ashburn, VA.\n",
       "dtype: object"
      ]
     },
     "execution_count": 397,
     "metadata": {},
     "output_type": "execute_result"
    }
   ],
   "source": [
    "imf_econ.head()"
   ]
  },
  {
   "cell_type": "code",
   "execution_count": 437,
   "metadata": {
    "scrolled": true
   },
   "outputs": [
    {
     "name": "stdout",
     "output_type": "stream",
     "text": [
      "article count = 4440\n",
      "sentence count = 213807\n",
      "total word count = 4523948\n",
      "mean words per sentence = 21.16\n"
     ]
    }
   ],
   "source": [
    "sentence_count = len(imf_econ)\n",
    "word_count = imf_econ.apply(lambda x : len(x.split())).sum()\n",
    "words_per_sentence = imf_econ.apply(lambda x : len(x.split())).mean()\n",
    "articles = len(the_economist)\n",
    "print(\"article count = {}\\nsentence count = {}\\ntotal word count = {}\\nmean words per sentence = {:.2f}\"\n",
    "      .format(articles,sentence_count,word_count,words_per_sentence))\n",
    "      "
   ]
  },
  {
   "cell_type": "markdown",
   "metadata": {},
   "source": [
    "### 4. Tokenize the sentences (split into words)\n",
    "### 5. Lemmatize the words (put into dictionary form e.g. running -> run)"
   ]
  },
  {
   "cell_type": "code",
   "execution_count": 75,
   "metadata": {},
   "outputs": [
    {
     "name": "stdout",
     "output_type": "stream",
     "text": [
      "[nltk_data] Downloading package wordnet to /Users/pv7409/nltk_data...\n",
      "[nltk_data]   Package wordnet is already up-to-date!\n",
      "[nltk_data] Downloading package averaged_perceptron_tagger to\n",
      "[nltk_data]     /Users/pv7409/nltk_data...\n",
      "[nltk_data]   Package averaged_perceptron_tagger is already up-to-\n",
      "[nltk_data]       date!\n"
     ]
    }
   ],
   "source": [
    "# There are libraries and functions that we will need to turn the\n",
    "# words into their lemmas (dictionary forms) https://en.wikipedia.org/wiki/Lemma_(morphology)\n",
    "# E.g. running will be turned into run and played into play\n",
    "# To do this we need to:\n",
    "\n",
    "# 1. tokenize the sentences (break them up into words)\n",
    "# 2. tag the parts of speech for each token (word) e.g. verb, adjective\n",
    "# 3. lemmatize the tokens (turn into dictionary form)\n",
    "\n",
    "# part of speech to the lemmatizer\n",
    "# Full sentences need to be passed to the parts of speech tagger in order to tag them accurately\n",
    "# If the word \"play\" is given in isolation, it is ambiguous if it is a verb or a noun,\n",
    "# but if you give the pos tagger a full sentence, it can determine from context\n",
    "# e.g. I am going to play (verb) tennis. I am going to see a play (noun).\n",
    "\n",
    "nltk.download('wordnet')\n",
    "from nltk.stem import WordNetLemmatizer\n",
    "from nltk.corpus import wordnet\n",
    "nltk.download('averaged_perceptron_tagger')\n",
    "lemmatizer = WordNetLemmatizer()\n",
    "\n",
    "# This function converts the parts of speech tags from nltk pos tagger \n",
    "# To POS tags that are compatible with the wordnet lemmatizer\n",
    "# function adapted from: \n",
    "# https://stackoverflow.com/questions/15586721/wordnet-lemmatization-and-pos-tagging-in-python\n",
    "def get_wordnet_pos(treebank_tag):\n",
    "    if treebank_tag.startswith('J'):\n",
    "        return wordnet.ADJ\n",
    "    elif treebank_tag.startswith('V'):\n",
    "        return wordnet.VERB\n",
    "    elif treebank_tag.startswith('R'):\n",
    "        return wordnet.ADV\n",
    "    elif treebank_tag.startswith('N'):\n",
    "        return wordnet.NOUN\n",
    "    else:\n",
    "        return None\n",
    "    "
   ]
  },
  {
   "cell_type": "code",
   "execution_count": 53,
   "metadata": {},
   "outputs": [
    {
     "name": "stdout",
     "output_type": "stream",
     "text": [
      "CPU times: user 5min 43s, sys: 5.84 s, total: 5min 49s\n",
      "Wall time: 5min 50s\n"
     ]
    }
   ],
   "source": [
    "%%time\n",
    "\n",
    "all_tokens = []\n",
    "all_lemmas = []\n",
    "for sentence in imf_econ:\n",
    "    tokens = nltk.word_tokenize(sentence)\n",
    "    tokenized = nltk.pos_tag(tokens)\n",
    "    for i, token in enumerate(tokenized):\n",
    "        # Filter out proper nouns (words with capital letters that aren't at the beginning of a sentence)\n",
    "        if token[0].islower() or i == 0:\n",
    "            word = token[0].lower()\n",
    "            wordnet_pos = get_wordnet_pos(token[1])\n",
    "        #print(word,wordnet_pos)\n",
    "            if wordnet_pos is None:\n",
    "                all_lemmas.append(word)\n",
    "                all_tokens.append(word)\n",
    "            else:\n",
    "                all_lemmas.append(lemmatizer.lemmatize(word,wordnet_pos))\n",
    "                all_tokens.append(word)\n",
    "\n",
    "# write out lemmes to text file\n",
    "f = open(\"all_lemmas.txt\",\"w\")\n",
    "for i in all_lemmas:\n",
    "    f.write((i+\"\\n\"))\n",
    "f.close()"
   ]
  },
  {
   "cell_type": "code",
   "execution_count": 400,
   "metadata": {},
   "outputs": [],
   "source": [
    "# Now we'll process the lemmas a little\n",
    "\n",
    "all_lemmas = open(\"all_lemmas.txt\",\"r\").read().split(\"\\n\")\n",
    "\n",
    "all_lemma_series = pd.Series(all_lemmas)\n",
    "\n",
    "#remove punctuation\n",
    "all_lemma_series = all_lemma_series[~all_lemma_series.str.contains(\"\\W\")]\n",
    "\n",
    "# remove proper names\n",
    "propernames = pd.Series(open(\"/usr/share/dict/propernames\",\"r\").read().split(\"\\n\"))\n",
    "propernames = propernames.apply(lambda x: x.lower())\n",
    "propernames = set(propernames)\n",
    "#all_lemma_series = all_lemma_series[~all_lemma_series.isin(propernames)]\n",
    "\n",
    "#get rid of numbers\n",
    "all_lemma_series = all_lemma_series[~all_lemma_series.str.contains(\"\\d\")]\n",
    "\n"
   ]
  },
  {
   "cell_type": "markdown",
   "metadata": {},
   "source": [
    "### 6. Rank all words by frequency"
   ]
  },
  {
   "cell_type": "code",
   "execution_count": 415,
   "metadata": {},
   "outputs": [],
   "source": [
    "# Create a frequency table for each lemma\n",
    "# Give each lemma a rank\n",
    "\n",
    "lemma_frequencey = all_lemma_series.value_counts()\n",
    "ranked = pd.Series(lemma_frequencey.index)\n",
    "ranks = pd.DataFrame(list(range(1,len(lemma_frequencey)+1)))\n",
    "ranks.index = lemma_frequencey.index\n",
    "ranks['freq'] = lemma_frequencey"
   ]
  },
  {
   "cell_type": "code",
   "execution_count": 416,
   "metadata": {},
   "outputs": [
    {
     "data": {
      "text/html": [
       "<div>\n",
       "<style scoped>\n",
       "    .dataframe tbody tr th:only-of-type {\n",
       "        vertical-align: middle;\n",
       "    }\n",
       "\n",
       "    .dataframe tbody tr th {\n",
       "        vertical-align: top;\n",
       "    }\n",
       "\n",
       "    .dataframe thead th {\n",
       "        text-align: right;\n",
       "    }\n",
       "</style>\n",
       "<table border=\"1\" class=\"dataframe\">\n",
       "  <thead>\n",
       "    <tr style=\"text-align: right;\">\n",
       "      <th></th>\n",
       "      <th>0</th>\n",
       "      <th>freq</th>\n",
       "    </tr>\n",
       "  </thead>\n",
       "  <tbody>\n",
       "    <tr>\n",
       "      <th>spillover</th>\n",
       "      <td>2001</td>\n",
       "      <td>188</td>\n",
       "    </tr>\n",
       "    <tr>\n",
       "      <th>corrupt</th>\n",
       "      <td>2002</td>\n",
       "      <td>188</td>\n",
       "    </tr>\n",
       "    <tr>\n",
       "      <th>behavior</th>\n",
       "      <td>2003</td>\n",
       "      <td>188</td>\n",
       "    </tr>\n",
       "    <tr>\n",
       "      <th>sensitive</th>\n",
       "      <td>2004</td>\n",
       "      <td>188</td>\n",
       "    </tr>\n",
       "    <tr>\n",
       "      <th>typical</th>\n",
       "      <td>2005</td>\n",
       "      <td>188</td>\n",
       "    </tr>\n",
       "    <tr>\n",
       "      <th>generous</th>\n",
       "      <td>2006</td>\n",
       "      <td>188</td>\n",
       "    </tr>\n",
       "    <tr>\n",
       "      <th>attractive</th>\n",
       "      <td>2007</td>\n",
       "      <td>188</td>\n",
       "    </tr>\n",
       "    <tr>\n",
       "      <th>jet</th>\n",
       "      <td>2008</td>\n",
       "      <td>188</td>\n",
       "    </tr>\n",
       "    <tr>\n",
       "      <th>usual</th>\n",
       "      <td>2009</td>\n",
       "      <td>187</td>\n",
       "    </tr>\n",
       "    <tr>\n",
       "      <th>brother</th>\n",
       "      <td>2010</td>\n",
       "      <td>187</td>\n",
       "    </tr>\n",
       "  </tbody>\n",
       "</table>\n",
       "</div>"
      ],
      "text/plain": [
       "               0  freq\n",
       "spillover   2001   188\n",
       "corrupt     2002   188\n",
       "behavior    2003   188\n",
       "sensitive   2004   188\n",
       "typical     2005   188\n",
       "generous    2006   188\n",
       "attractive  2007   188\n",
       "jet         2008   188\n",
       "usual       2009   187\n",
       "brother     2010   187"
      ]
     },
     "execution_count": 416,
     "metadata": {},
     "output_type": "execute_result"
    }
   ],
   "source": [
    "ranks[2000:2010]"
   ]
  },
  {
   "cell_type": "markdown",
   "metadata": {},
   "source": [
    "### 7. Get a frequency ranked list of English words from a general corpus of English texts"
   ]
  },
  {
   "cell_type": "markdown",
   "metadata": {},
   "source": [
    "Here is a list of the 5000 most frequent words in English from https://www.wordfrequency.info/\n",
    "<br>Note that although there are 5000 entries in the list, there are only 4353 unique words,\n",
    "as sometimes the same word has several entries because it appears as a different part of speech \n",
    "<br>e.g. 'light' appears as a noun (the light at the end of the tunnel) and as an adjective (a light breakfast)"
   ]
  },
  {
   "cell_type": "code",
   "execution_count": 403,
   "metadata": {},
   "outputs": [],
   "source": [
    "# Get list of English words by frequency, generated from 14 billion word intente corpus\n",
    "# https://www.wordfrequency.info/ \n",
    "f = open(\"5000_eng_words.txt\",\"r\")\n",
    "freq_5000 = f.read().split(\"\\n\")\n",
    "freq_5000 = freq_5000[1:] # ignore header\n",
    "freq_5000_list = pd.Series(freq_5000).str.lower()\n",
    "\n",
    "#remove duplicated words in freq_5000_list\n",
    "freq_5000_list = pd.Series(freq_5000_list).unique()\n",
    "\n",
    "# give each word in the general corpus frequency list a rank\n",
    "freq5000df = pd.DataFrame(list(range(1,len(freq_5000_list)+1)))\n",
    "freq5000df.index = freq_5000_list"
   ]
  },
  {
   "cell_type": "code",
   "execution_count": 404,
   "metadata": {},
   "outputs": [
    {
     "data": {
      "text/html": [
       "<div>\n",
       "<style scoped>\n",
       "    .dataframe tbody tr th:only-of-type {\n",
       "        vertical-align: middle;\n",
       "    }\n",
       "\n",
       "    .dataframe tbody tr th {\n",
       "        vertical-align: top;\n",
       "    }\n",
       "\n",
       "    .dataframe thead th {\n",
       "        text-align: right;\n",
       "    }\n",
       "</style>\n",
       "<table border=\"1\" class=\"dataframe\">\n",
       "  <thead>\n",
       "    <tr style=\"text-align: right;\">\n",
       "      <th></th>\n",
       "      <th>0</th>\n",
       "    </tr>\n",
       "  </thead>\n",
       "  <tbody>\n",
       "    <tr>\n",
       "      <th>the</th>\n",
       "      <td>1</td>\n",
       "    </tr>\n",
       "    <tr>\n",
       "      <th>be</th>\n",
       "      <td>2</td>\n",
       "    </tr>\n",
       "    <tr>\n",
       "      <th>and</th>\n",
       "      <td>3</td>\n",
       "    </tr>\n",
       "    <tr>\n",
       "      <th>of</th>\n",
       "      <td>4</td>\n",
       "    </tr>\n",
       "    <tr>\n",
       "      <th>a</th>\n",
       "      <td>5</td>\n",
       "    </tr>\n",
       "  </tbody>\n",
       "</table>\n",
       "</div>"
      ],
      "text/plain": [
       "     0\n",
       "the  1\n",
       "be   2\n",
       "and  3\n",
       "of   4\n",
       "a    5"
      ]
     },
     "execution_count": 404,
     "metadata": {},
     "output_type": "execute_result"
    }
   ],
   "source": [
    "freq5000df.head()"
   ]
  },
  {
   "cell_type": "code",
   "execution_count": 417,
   "metadata": {},
   "outputs": [],
   "source": [
    "# merge the general corpus frequency data frame with our economics vocab frequency list\n",
    "\n",
    "ranks = ranks.merge(freq5000df,how=\"left\",left_index=True,right_index=True)\n",
    "ranks.columns = \"economics_rank\",\"economics_freq\",\"general_rank\"\n",
    "ranks = ranks.sort_values(\"economics_rank\")\n",
    "\n",
    "# if word not in general corpus list, give it rank of 1000000\n",
    "ranks.loc[ranks[\"general_rank\"].isnull(),[\"general_rank\"]] = 1000000 \n",
    "ranks[\"general_rank\"] = ranks[\"general_rank\"].astype(int) # turn back into integers\n"
   ]
  },
  {
   "cell_type": "code",
   "execution_count": 418,
   "metadata": {},
   "outputs": [],
   "source": [
    "# remove small words (get rid of single letters etc.)\n",
    "words_series = pd.Series(ranks.index)\n",
    "long_words = words_series[words_series.apply(lambda x: len(x) > 3)].values"
   ]
  },
  {
   "cell_type": "code",
   "execution_count": 419,
   "metadata": {},
   "outputs": [],
   "source": [
    "ranks = ranks.loc[long_words]"
   ]
  },
  {
   "cell_type": "code",
   "execution_count": 420,
   "metadata": {},
   "outputs": [
    {
     "data": {
      "text/html": [
       "<div>\n",
       "<style scoped>\n",
       "    .dataframe tbody tr th:only-of-type {\n",
       "        vertical-align: middle;\n",
       "    }\n",
       "\n",
       "    .dataframe tbody tr th {\n",
       "        vertical-align: top;\n",
       "    }\n",
       "\n",
       "    .dataframe thead th {\n",
       "        text-align: right;\n",
       "    }\n",
       "</style>\n",
       "<table border=\"1\" class=\"dataframe\">\n",
       "  <thead>\n",
       "    <tr style=\"text-align: right;\">\n",
       "      <th></th>\n",
       "      <th>economics_rank</th>\n",
       "      <th>economics_freq</th>\n",
       "      <th>general_rank</th>\n",
       "    </tr>\n",
       "  </thead>\n",
       "  <tbody>\n",
       "    <tr>\n",
       "      <th>have</th>\n",
       "      <td>8</td>\n",
       "      <td>55367</td>\n",
       "      <td>8</td>\n",
       "    </tr>\n",
       "    <tr>\n",
       "      <th>that</th>\n",
       "      <td>9</td>\n",
       "      <td>54685</td>\n",
       "      <td>11</td>\n",
       "    </tr>\n",
       "    <tr>\n",
       "      <th>with</th>\n",
       "      <td>15</td>\n",
       "      <td>26638</td>\n",
       "      <td>15</td>\n",
       "    </tr>\n",
       "    <tr>\n",
       "      <th>from</th>\n",
       "      <td>16</td>\n",
       "      <td>22019</td>\n",
       "      <td>25</td>\n",
       "    </tr>\n",
       "    <tr>\n",
       "      <th>more</th>\n",
       "      <td>21</td>\n",
       "      <td>17803</td>\n",
       "      <td>78</td>\n",
       "    </tr>\n",
       "  </tbody>\n",
       "</table>\n",
       "</div>"
      ],
      "text/plain": [
       "      economics_rank  economics_freq  general_rank\n",
       "have               8           55367             8\n",
       "that               9           54685            11\n",
       "with              15           26638            15\n",
       "from              16           22019            25\n",
       "more              21           17803            78"
      ]
     },
     "execution_count": 420,
     "metadata": {},
     "output_type": "execute_result"
    }
   ],
   "source": [
    "ranks.head()"
   ]
  },
  {
   "cell_type": "markdown",
   "metadata": {},
   "source": [
    "### 8. Get a list of Spanish-English cognates (e.g. la economía <-> the economy)"
   ]
  },
  {
   "cell_type": "code",
   "execution_count": 1086,
   "metadata": {},
   "outputs": [],
   "source": [
    "# list of spanish/english cognates downloaded from: http://cognates.org/pdf/mfcogn.pdf\n",
    "# massage the text file (formatting was messed up when converted from pdf)\n",
    "f = open(\"cognates.txt\",\"r\").read()\n",
    "f = re.sub(r'\\((.*?)\\)',\",\",f)\n",
    "f = re.sub(\"por ciento\",\"porciento\",f)\n",
    "f = re.sub(\"se relajó\",\"serelajó\",f)\n",
    "f = re.sub(\"en el presente\",\"enelpresente\",f)\n",
    "f = re.sub(\"ex prefix\",\"prefix\",f)\n",
    "f = re.sub(\"ex prefijo\",\"prefix\",f)\n",
    "f = re.sub(\"soul, música\",\"soulmúsica\",f)\n",
    "f = re.sub(\"substituir v. 5/sustituir\",\"substituir/sustituir\",f)\n",
    "f = re.sub(\"rock n' roll\",\"rock'n'roll\",f)\n",
    "f = re.sub(\"El Salvador\",\"ElSalvador\",f)\n",
    "f = re.sub(\"valuación, avalúo\",\"valuación/avalúo\",f)\n",
    "f = re.sub(\"prefix\",\"\",f)\n",
    "f = re.sub(\"intj.\",\"\",f)\n",
    "\n",
    "f = re.sub(r'\\d',\",\",f)\n",
    "f = re.split(\"PMF|MFW| |conj\\.|v\\.|adj\\.|n\\.|s\\.|adv\\.|,|abbr\\.|abr\\.|prep\\.\",f)\n",
    "to_remove = \"Cognate\",\"org\",\"\",\"clic\",\"prefijo\",\"prefix\"\n",
    "for item in to_remove:\n",
    "    while item in f: f.remove(item)\n",
    "f[f.index(\"porciento\")] = \"por ciento\"\n",
    "f[f.index(\"serelajó\")] = \"se relajó\"\n",
    "f[f.index(\"enelpresente\")] = \"en el presente\"\n",
    "f[f.index(\"soulmúsica\")] = \"soul música\"\n",
    "\n",
    "\n"
   ]
  },
  {
   "cell_type": "code",
   "execution_count": 1091,
   "metadata": {},
   "outputs": [],
   "source": [
    "cognate_list = []\n",
    "for i in range(0,len(f)-1,2):\n",
    "    cognate_list.append([f[i],f[i+1]])\n",
    "cognate_df = pd.DataFrame(cognate_list)\n",
    "cognate_df = pd.DataFrame(cognate_df)\n",
    "cognate_df.columns = \"english\",\"spanish\"\n",
    "cognate_df.to_csv(\"spanish_english_cognates.csv\",index=False)"
   ]
  },
  {
   "cell_type": "code",
   "execution_count": 421,
   "metadata": {},
   "outputs": [],
   "source": [
    "cognate_df = pd.read_csv(\"spanish_english_cognates.csv\",header=None)\n",
    "cognate_df.columns = \"english\",\"spanish\""
   ]
  },
  {
   "cell_type": "code",
   "execution_count": 422,
   "metadata": {},
   "outputs": [
    {
     "data": {
      "text/html": [
       "<div>\n",
       "<style scoped>\n",
       "    .dataframe tbody tr th:only-of-type {\n",
       "        vertical-align: middle;\n",
       "    }\n",
       "\n",
       "    .dataframe tbody tr th {\n",
       "        vertical-align: top;\n",
       "    }\n",
       "\n",
       "    .dataframe thead th {\n",
       "        text-align: right;\n",
       "    }\n",
       "</style>\n",
       "<table border=\"1\" class=\"dataframe\">\n",
       "  <thead>\n",
       "    <tr style=\"text-align: right;\">\n",
       "      <th></th>\n",
       "      <th>english</th>\n",
       "      <th>spanish</th>\n",
       "    </tr>\n",
       "  </thead>\n",
       "  <tbody>\n",
       "    <tr>\n",
       "      <th>0</th>\n",
       "      <td>english</td>\n",
       "      <td>spanish</td>\n",
       "    </tr>\n",
       "    <tr>\n",
       "      <th>1</th>\n",
       "      <td>a.m.</td>\n",
       "      <td>a.m.</td>\n",
       "    </tr>\n",
       "    <tr>\n",
       "      <th>2</th>\n",
       "      <td>abandon</td>\n",
       "      <td>abandonar</td>\n",
       "    </tr>\n",
       "    <tr>\n",
       "      <th>3</th>\n",
       "      <td>abandoned</td>\n",
       "      <td>abandonó</td>\n",
       "    </tr>\n",
       "    <tr>\n",
       "      <th>4</th>\n",
       "      <td>abandoned</td>\n",
       "      <td>abandonado</td>\n",
       "    </tr>\n",
       "  </tbody>\n",
       "</table>\n",
       "</div>"
      ],
      "text/plain": [
       "     english     spanish\n",
       "0    english     spanish\n",
       "1       a.m.        a.m.\n",
       "2    abandon   abandonar\n",
       "3  abandoned    abandonó\n",
       "4  abandoned  abandonado"
      ]
     },
     "execution_count": 422,
     "metadata": {},
     "output_type": "execute_result"
    }
   ],
   "source": [
    "cognate_df.head()"
   ]
  },
  {
   "cell_type": "markdown",
   "metadata": {},
   "source": [
    "### 9. Create our list of most common economics specific words without Spanish cognates"
   ]
  },
  {
   "cell_type": "code",
   "execution_count": 424,
   "metadata": {},
   "outputs": [],
   "source": [
    "#economics_vocab = ranks[(ranks[\"economics_rank\"] > ranks[\"general_rank\"] + 500) & (ranks[\"general_rank\"] < 10000)]\n",
    "economics_vocab = ranks[((ranks[\"economics_rank\"] ) < ranks[\"general_rank\"] - 1000) ]"
   ]
  },
  {
   "cell_type": "code",
   "execution_count": 425,
   "metadata": {
    "scrolled": true
   },
   "outputs": [],
   "source": [
    "s = pd.Series(economics_vocab.index)\n",
    "no_cognates = list(s[~s.isin(cognate_df[\"english\"])])\n",
    "have_cognates = list(s[s.isin(cognate_df[\"english\"])])\n",
    "economics_vocab_no_cognates = economics_vocab.loc[no_cognates]\n",
    "economics_vocab_with_cognates = economics_vocab.loc[have_cognates]"
   ]
  },
  {
   "cell_type": "code",
   "execution_count": 426,
   "metadata": {},
   "outputs": [],
   "source": [
    "cog_df = pd.DataFrame(cognate_df[\"spanish\"])\n",
    "cog_df.index = cognate_df[\"english\"]"
   ]
  },
  {
   "cell_type": "code",
   "execution_count": 427,
   "metadata": {},
   "outputs": [],
   "source": [
    "w_cognate = economics_vocab.merge(cog_df,how=\"left\",left_index=True,right_index=True)\n",
    "w_cognate = w_cognate.sort_values(\"economics_rank\")\n",
    "w_cognate.loc[w_cognate['spanish'].isnull(),['spanish']] = \"-\""
   ]
  },
  {
   "cell_type": "code",
   "execution_count": 428,
   "metadata": {},
   "outputs": [],
   "source": [
    "w_cognate = w_cognate.rename({\"spanish\":\"spanish_cognate\"},axis=1)"
   ]
  },
  {
   "cell_type": "code",
   "execution_count": 127,
   "metadata": {},
   "outputs": [],
   "source": [
    "# Write vocab list\n",
    "f = open(\"economics_vocab.txt\",\"w\")\n",
    "f.write(\"\"\"#List of 2000 economics related words \n",
    "#Ranked by frequency of occurrence in the imf finance and development magazine\n",
    "#https://www.imf.org/external/pubs/ft/fandd/\n",
    "#Words with Spanish cognates removed\\n\"\"\")\n",
    "for i in economics_vocab_no_cognates[:2000].index:\n",
    "    f.write((i+\"\\n\"))\n",
    "f.close()"
   ]
  },
  {
   "cell_type": "markdown",
   "metadata": {},
   "source": [
    "### 10. Get dictionary entries with examples for each word by web scraping"
   ]
  },
  {
   "cell_type": "code",
   "execution_count": 131,
   "metadata": {},
   "outputs": [],
   "source": [
    "economics_vocab_list = open(\"economics_vocab.txt\",\"r\").readlines()\n",
    "economics_vocab_list = pd.Series(economics_vocab_list)\n",
    "economics_vocab_list = economics_vocab_list.iloc[4:]\n",
    "economics_vocab_list = economics_vocab_list.str.rstrip()"
   ]
  },
  {
   "cell_type": "code",
   "execution_count": 132,
   "metadata": {
    "scrolled": true
   },
   "outputs": [
    {
     "name": "stdout",
     "output_type": "stream",
     "text": [
      "CPU times: user 1min 46s, sys: 4.24 s, total: 1min 50s\n",
      "Wall time: 19min 49s\n"
     ]
    }
   ],
   "source": [
    "%%time\n",
    "import requests\n",
    "from bs4 import BeautifulSoup\n",
    "import numpy as np\n",
    "definitions = pd.DataFrame({\"word\":[],\"definitions\":[]})\n",
    "for word in economics_vocab_list:\n",
    "    try:\n",
    "        url=\"http://www.spanishdict.com/translate/{}\".format(word)\n",
    "        content = requests.get(url).content\n",
    "        soup = BeautifulSoup(content,'lxml')\n",
    "        entry = str(soup.select(\".dictionary-entry\")[0])\n",
    "        tmp_df = pd.DataFrame({\"word\":[word],\"definitions\":[entry]})\n",
    "        definitions = definitions.append(tmp_df)\n",
    "    except:\n",
    "        tmp_df = pd.DataFrame({\"word\":[word],\"definitions\":[np.nan]})\n",
    "        definitions = definitions.append(tmp_df)\n",
    "definitions.to_csv(\"defintions_4_anki.txt\",header=None,index=False,sep=\"\\t\")"
   ]
  },
  {
   "cell_type": "code",
   "execution_count": 52,
   "metadata": {},
   "outputs": [],
   "source": [
    "definitions = pd.read_csv(\"defintions_4_anki.txt\",header=None,sep=\"\\t\")\n",
    "definitions.columns=\"word\",\"definitions\"\n",
    "definitions.index = definitions['word'].values"
   ]
  },
  {
   "cell_type": "code",
   "execution_count": 430,
   "metadata": {},
   "outputs": [],
   "source": [
    "# create a set of words on the first draught of the list that my friend says she already knows\n",
    "\n",
    "knows = pd.read_csv(\"words_blanca_knows.txt\",header=None)[1:]\n",
    "knows.loc[220:,1] = \"x\"\n",
    "already_knows = set(knows[knows[1].isnull()][0])"
   ]
  },
  {
   "cell_type": "markdown",
   "metadata": {},
   "source": [
    "### 11. Extract examples from dictionary entries"
   ]
  },
  {
   "cell_type": "code",
   "execution_count": 61,
   "metadata": {},
   "outputs": [],
   "source": [
    "for word in definitions['word'][:400]:\n",
    "    try:\n",
    "        content = definitions.loc[word,'definitions']\n",
    "        soup = BeautifulSoup(content,'lxml')\n",
    "        for i, item in enumerate(soup.find_all(class_=\"dictionary-neodict-example\")):\n",
    "            trans = item.parent.previousSibling.find_all(class_=\"dictionary-neodict-translation-translation\")[0].text\n",
    "            if trans == \"\":\n",
    "                trans == \"No direct translation\"\n",
    "            english = item.find_all(\"span\")[0].text\n",
    "            spanish = item.find_all(class_=\"exB\")[0].text\n",
    "            definitions.loc[word,'ex{}trans'.format(i)] = trans \n",
    "            definitions.loc[word,'ex{}eng'.format(i)] = english\n",
    "            definitions.loc[word,'ex{}spa'.format(i)] = spanish\n",
    "    except:\n",
    "        continue"
   ]
  },
  {
   "cell_type": "markdown",
   "metadata": {},
   "source": [
    "### 12. Make the Anki flash cards:"
   ]
  },
  {
   "cell_type": "markdown",
   "metadata": {},
   "source": [
    "To start with I will only make cards for around the first 200 words.  "
   ]
  },
  {
   "cell_type": "code",
   "execution_count": 70,
   "metadata": {},
   "outputs": [],
   "source": [
    "to_check = definitions[~definitions['word'].isin(already_knows)]\n",
    "to_check = to_check.iloc[2:]"
   ]
  },
  {
   "cell_type": "code",
   "execution_count": 72,
   "metadata": {},
   "outputs": [],
   "source": [
    "to_check[:200].to_csv(\"to_check.csv\",sep=\"\\t\",header=None)"
   ]
  },
  {
   "cell_type": "code",
   "execution_count": 73,
   "metadata": {},
   "outputs": [],
   "source": [
    "for_anki = pd.read_csv(\"./first_195.csv\",sep=\"\\t\",index_col=0,header=None)"
   ]
  },
  {
   "cell_type": "code",
   "execution_count": 432,
   "metadata": {
    "scrolled": true
   },
   "outputs": [],
   "source": [
    "### make anki for guessing English word from Spanish\n",
    "\n",
    "def make_anki(entry,replacement,sentence,translation,extra,definition):\n",
    "    try:\n",
    "        tokens = nltk.word_tokenize(sentence)\n",
    "        tokenized = nltk.pos_tag(tokens)\n",
    "        lemmas = []\n",
    "        for i, token in enumerate(tokenized):\n",
    "            word = token[0]\n",
    "            wordnet_pos = get_wordnet_pos(token[1])\n",
    "            if wordnet_pos is None:\n",
    "                lemmas.append(word)\n",
    "            else:\n",
    "                lemmas.append(lemmatizer.lemmatize(word,wordnet_pos))\n",
    "        target_index = lemmas.index(entry)\n",
    "        tokens[target_index] = \"{{c1::\" + replacement + \"::\" + tokens[target_index] + \"}}\"\n",
    "        tokens[-2] = tokens[-2] + tokens[-1]\n",
    "        result = \" \".join(tokens[:-1])\n",
    "        return (result + \"\\t\" + extra + \"\\t\" + translation + \"\\t\" + definition)\n",
    "    except:\n",
    "        return None\n",
    "\n",
    "# entry = \"scheme\"\n",
    "# replacement = \"el plan\"\n",
    "# sentence = \"The city government developed a scheme to revitalize its downtown area.\"\n",
    "# translation = \"El gobierno municipal ideó un plan para revitalizar el centro de la ciudad.\"\n",
    "# extra = \" \"\n",
    "# definition = \"definition goes here\"\n",
    "# make_anki(word,replacement,sentence,translation,extra,definition)"
   ]
  },
  {
   "cell_type": "code",
   "execution_count": 434,
   "metadata": {},
   "outputs": [
    {
     "data": {
      "text/plain": [
       "\"¿Qué significa la palabra en azul?<br><br>The city government developed a <span style='color:blue;'> scheme</span> to revitalize its downtown area.\\t<strong>el plan</strong><br>El gobierno municipal ideó un plan para revitalizar el centro de la ciudad.\\tdefinition goes here\""
      ]
     },
     "execution_count": 434,
     "metadata": {},
     "output_type": "execute_result"
    }
   ],
   "source": [
    "### Make anki for guessing Spanish word from English\n",
    "\n",
    "def make_anki(entry,replacement,sentence,translation,extra,definition):\n",
    "    \"\"\"makes an Anki card with sentence in English, translation in Spanish and definition\"\"\"\n",
    "    try:\n",
    "        # Split the sentence into tokens (words plus puncuation)\n",
    "        tokens = nltk.word_tokenize(sentence)\n",
    "        tokenized = nltk.pos_tag(tokens)\n",
    "        lemmas = []\n",
    "        # Lemmatize the words (necessary for replacing/highlighting the words later)\n",
    "        for i, token in enumerate(tokenized):\n",
    "            word = token[0]\n",
    "            wordnet_pos = get_wordnet_pos(token[1])\n",
    "            if wordnet_pos is None:\n",
    "                lemmas.append(word)\n",
    "            else:\n",
    "                lemmas.append(lemmatizer.lemmatize(word,wordnet_pos))\n",
    "        target_index = lemmas.index(entry)\n",
    "        # insert css styling around the target word\n",
    "        tokens[target_index] = \"<span style='color:blue;'> \" + tokens[target_index] + \"</span>\"\n",
    "        tokens[-2] = tokens[-2] + tokens[-1]\n",
    "        result = \" \".join(tokens[:-1])\n",
    "        result = re.sub(\" n't\",\"n't\",result)\n",
    "        for match in re.findall(\"\\w\\w\\w \\W\",result):\n",
    "            result = re.sub(match,re.sub(\" \",\"\",r\"{}\".format(match)),result)\n",
    "             \n",
    "\n",
    "        return (\"¿Qué significa la palabra en azul?<br><br>\" + result + \"\\t\" + \"<strong>\" + replacement + \"</strong><br>\" + translation + \"\\t\" + definition)\n",
    "    except:\n",
    "        return None\n",
    "\n",
    "\n",
    "# Lines below are a test of the make_anki function    \n",
    "entry = \"scheme\"\n",
    "replacement = \"el plan\"\n",
    "sentence = \"The city government developed a scheme to revitalize its downtown area.\"\n",
    "translation = \"El gobierno municipal ideó un plan para revitalizar el centro de la ciudad.\"\n",
    "extra = \" \"\n",
    "definition = \"definition goes here\"\n",
    "make_anki(word,replacement,sentence,translation,extra,definition)"
   ]
  },
  {
   "cell_type": "code",
   "execution_count": 374,
   "metadata": {},
   "outputs": [],
   "source": [
    "# Create a dictionary where the keys are the words to be learned and the \n",
    "# values are a list of anki cards with one example per card\n",
    "\n",
    "cards = {}\n",
    "for entry in for_anki.index:\n",
    "    try:\n",
    "#        cards[entry] = [\"{{c1::what is meaning of...::what is meaning of...}}<br>\" + entry + \"\\t\" + \" \" + \"\\t\" + definitions.loc[entry,\"definitions\"] + \"\\t\" + \" \"  ]\n",
    "        cards[entry] = []\n",
    "        for i in range(for_anki.loc[entry].dropna().shape[0]//3):\n",
    "            replacement = for_anki.loc[entry,1+(i*3)]\n",
    "            sentence = for_anki.loc[entry,2+(i*3)]\n",
    "            translation = for_anki.loc[entry,3+(i*3)]\n",
    "            definition = definitions.loc[entry,'definitions']\n",
    "            extra = \" \"\n",
    "            result = make_anki(entry,replacement,sentence,translation,extra,definition)\n",
    "            if result is None:\n",
    "                continue\n",
    "            else:\n",
    "                cards[entry].append(result)\n",
    "    except:\n",
    "        continue\n",
    "\n"
   ]
  },
  {
   "cell_type": "code",
   "execution_count": 375,
   "metadata": {},
   "outputs": [],
   "source": [
    "# Prepare the deck for loading into Anki\n",
    "# We want the easier cards to appear first, but we also want to randomize\n",
    "# the order a little to spread out examples of the same words to make\n",
    "# the deck less predicatable\n",
    "\n",
    "import copy\n",
    "import random\n",
    "f = open(\"test_anki_deck.txt\",\"w\")\n",
    "# deep copy required because we are removing cards from the list and don't want to\n",
    "# alter the original list\n",
    "destroy_cards = copy.deepcopy(cards) \n",
    "# Group the cards in intervals of 15 and randomize within those groups\n",
    "interval = 15\n",
    "written_cards = []\n",
    "for start in range(0,len(for_anki),interval):\n",
    "    randlist = []\n",
    "    # Take 3 examples for each word, or the most available if less than 3\n",
    "    for i in range(4):\n",
    "        for entry in for_anki.index[start:start+interval]:\n",
    "            if len(destroy_cards[entry]) > 0:\n",
    "                randlist.append(destroy_cards[entry].pop(0))\n",
    "    while len(randlist) > 0:\n",
    "        next_card = randlist.pop(random.randrange(len(randlist)))\n",
    "        f.write(next_card)\n",
    "        f.write(\"\\n\")\n",
    "        written_cards.append(next_card.split(\"\\t\")[0])           \n",
    "f.close()"
   ]
  },
  {
   "cell_type": "markdown",
   "metadata": {},
   "source": [
    "The Anki deck can then be imported in as a tab seperated file. I needed to create a special card time in Anki to accomodate the front/back/definition format of the card. These cards types are already in the .apgk file in this repository"
   ]
  },
  {
   "cell_type": "markdown",
   "metadata": {},
   "source": [
    "# Cells not currently in use"
   ]
  },
  {
   "cell_type": "markdown",
   "metadata": {},
   "source": [
    "### Getting examples from the parallel corpus"
   ]
  },
  {
   "cell_type": "code",
   "execution_count": 155,
   "metadata": {},
   "outputs": [],
   "source": [
    "to_anki = definitions.copy()"
   ]
  },
  {
   "cell_type": "code",
   "execution_count": 166,
   "metadata": {},
   "outputs": [
    {
     "name": "stderr",
     "output_type": "stream",
     "text": [
      "/Users/pv7409/anaconda3/lib/python3.6/site-packages/ipykernel_launcher.py:3: SettingWithCopyWarning: \n",
      "A value is trying to be set on a copy of a slice from a DataFrame.\n",
      "Try using .loc[row_indexer,col_indexer] = value instead\n",
      "\n",
      "See the caveats in the documentation: http://pandas.pydata.org/pandas-docs/stable/indexing.html#indexing-view-versus-copy\n",
      "  This is separate from the ipykernel package so we can avoid doing imports until\n"
     ]
    },
    {
     "name": "stdout",
     "output_type": "stream",
     "text": [
      "CPU times: user 4.59 s, sys: 1.71 s, total: 6.3 s\n",
      "Wall time: 18.8 s\n"
     ]
    }
   ],
   "source": [
    "%%time\n",
    "for word in to_anki.index[:10]:\n",
    "    try:\n",
    "        long_imf_sentences['sentence_length'] = long_imf_sentences['english'].apply(lambda x: len(x.split()))\n",
    "        examples = (long_imf_sentences[long_imf_sentences['english']\n",
    "             .str.contains(word)].sort_values('sentence_length'))\n",
    "        examples = examples[['english','spanish']].loc[examples['sentence_length'] > 15]\n",
    "        examples = examples.loc[~examples['english'].str.contains(\"\\d\") & ~examples['spanish'].str.contains(\"\\d\")]\n",
    "        examples = examples.iloc[:5,:].copy()\n",
    "        for i in range(5):\n",
    "            to_anki.loc[word,\"ex{}_eng\".format(i)] = examples.iloc[i,0]\n",
    "            to_anki.loc[word,\"ex{}_spa\".format(i)] = examples.iloc[i,1]\n",
    "    except:\n",
    "        for i in range(5):\n",
    "            to_anki.loc[word,\"ex{}_eng\".format(i)] = np.nan\n",
    "            to_anki.loc[word,\"ex{}_spa\".format(i)] = np.nan"
   ]
  },
  {
   "cell_type": "code",
   "execution_count": 163,
   "metadata": {},
   "outputs": [
    {
     "data": {
      "text/plain": [
       "word\n",
       "inbox      NaN\n",
       "upgrade    NaN\n",
       "debt       NaN\n",
       "investor   NaN\n",
       "asset      NaN\n",
       "Name: ex0_eng, dtype: float64"
      ]
     },
     "execution_count": 163,
     "metadata": {},
     "output_type": "execute_result"
    }
   ],
   "source": [
    "to_anki['ex0_eng'].head()"
   ]
  },
  {
   "cell_type": "code",
   "execution_count": 66,
   "metadata": {},
   "outputs": [],
   "source": [
    "import re\n",
    "for word in to_anki.index[:100]:\n",
    "    try:\n",
    "        regex = r\"{}\\S*\".format(to_anki.loc[word,'word'][:-2])\n",
    "        match = re.findall(regex,to_anki.loc[word,'ex0_eng'].lower())[0]\n",
    "        to_anki.loc[word,'ex0_cloze'] = re.sub(match,\"{{{{c1::{}}}}}\".format(match),to_anki.loc[word,'ex0_eng'].lower())\n",
    "    except:\n",
    "        continue"
   ]
  },
  {
   "cell_type": "code",
   "execution_count": 72,
   "metadata": {},
   "outputs": [],
   "source": [
    "to_anki.iloc[:100,[12,3,1]].to_csv(\"examples_anki.txt\",index=False,header=None,sep=\"\\t\")\n",
    "    "
   ]
  },
  {
   "cell_type": "code",
   "execution_count": 71,
   "metadata": {},
   "outputs": [
    {
     "data": {
      "text/html": [
       "<div>\n",
       "<style scoped>\n",
       "    .dataframe tbody tr th:only-of-type {\n",
       "        vertical-align: middle;\n",
       "    }\n",
       "\n",
       "    .dataframe tbody tr th {\n",
       "        vertical-align: top;\n",
       "    }\n",
       "\n",
       "    .dataframe thead th {\n",
       "        text-align: right;\n",
       "    }\n",
       "</style>\n",
       "<table border=\"1\" class=\"dataframe\">\n",
       "  <thead>\n",
       "    <tr style=\"text-align: right;\">\n",
       "      <th></th>\n",
       "      <th>ex0_cloze</th>\n",
       "      <th>ex0_spa</th>\n",
       "      <th>definitions</th>\n",
       "    </tr>\n",
       "    <tr>\n",
       "      <th>word</th>\n",
       "      <th></th>\n",
       "      <th></th>\n",
       "      <th></th>\n",
       "    </tr>\n",
       "  </thead>\n",
       "  <tbody>\n",
       "    <tr>\n",
       "      <th>currency</th>\n",
       "      <td>but what goes up does not come down so easily when there is no independent {{c1::currency.}}</td>\n",
       "      <td>Pero lo que sube no baja con tanta facilidad si la moneda no es independiente.</td>\n",
       "      <td>&lt;div class=\"dictionary-entry dictionary-neodict\"&gt;&lt;div class=\"dictionary-neodict-entry-title\"&gt;currency&lt;/div&gt;&lt;a class=\"has-tooltip dictionary-neodict-first-part-of-speech part_of_speech\" data-toggle=\"tooltip\" href=\"http://www.spanishdict.com/guide/masculine-and-feminine-nouns\" title=\"A noun is a word referring to a person, animal, place, thing, feeling or idea (e.g. man, dog, house).\"&gt;noun&lt;/a&gt;&lt;div class=\"dictionary-neodict-indent-1\"&gt;&lt;span class=\"def\"&gt;1. &lt;/span&gt;&lt;span class=\"context\"&gt;(finance)&lt;/span&gt; &lt;div class=\"dictionary-neodict-indent-2\"&gt;&lt;div class=\"dictionary-neodict-translation\"&gt;&lt;span class=\"dictionary-neodict-translation-letters\"&gt;a. &lt;/span&gt;&lt;a class=\"dictionary-neodict-translation-translation\" href=\"/translate/la%20moneda\"&gt;la moneda&lt;/a&gt;&lt;span class=\"def\"&gt; &lt;/span&gt;&lt;a class=\"has-tooltip def\" data-toggle=\"tooltip\" href=\"http://www.spanishdict.com/guide/masculine-and-feminine-nouns\" title=\"(f) means that a noun is feminine. Spanish nouns have a gender, which is either feminine (like la ...</td>\n",
       "    </tr>\n",
       "    <tr>\n",
       "      <th>poverty</th>\n",
       "      <td>she wants it to be part of a data revolution to guide the fight against {{c1::poverty.}}</td>\n",
       "      <td>Quiere que sea parte de una revolución en materia de datos que oriente la lucha contra la pobreza.</td>\n",
       "      <td>&lt;div class=\"dictionary-entry dictionary-neodict\"&gt;&lt;div class=\"dictionary-neodict-entry-title\"&gt;poverty&lt;/div&gt;&lt;a class=\"has-tooltip dictionary-neodict-first-part-of-speech part_of_speech\" data-toggle=\"tooltip\" href=\"http://www.spanishdict.com/guide/masculine-and-feminine-nouns\" title=\"A noun is a word referring to a person, animal, place, thing, feeling or idea (e.g. man, dog, house).\"&gt;noun&lt;/a&gt;&lt;div class=\"dictionary-neodict-indent-1\"&gt;&lt;span class=\"def\"&gt;1. &lt;/span&gt;&lt;span class=\"context\"&gt;(state of being poor)&lt;/span&gt; &lt;div class=\"dictionary-neodict-indent-2\"&gt;&lt;div class=\"dictionary-neodict-translation\"&gt;&lt;span class=\"dictionary-neodict-translation-letters\"&gt;a. &lt;/span&gt;&lt;a class=\"dictionary-neodict-translation-translation\" href=\"/translate/la%20pobreza\"&gt;la pobreza&lt;/a&gt;&lt;span class=\"def\"&gt; &lt;/span&gt;&lt;a class=\"has-tooltip def\" data-toggle=\"tooltip\" href=\"http://www.spanishdict.com/guide/masculine-and-feminine-nouns\" title=\"(f) means that a noun is feminine. Spanish nouns have a gender, which is either femin...</td>\n",
       "    </tr>\n",
       "    <tr>\n",
       "      <th>spending</th>\n",
       "      <td>canada, meanwhile, implemented profound structural reforms in {{c1::spending}} and tax policy that had a longer-lasting impact.</td>\n",
       "      <td>Canadá, entre tanto, puso en marcha profundas reformas estructurales de la política de gasto y tributación que tuvieron un impacto más duradero.</td>\n",
       "      <td>&lt;div class=\"dictionary-entry dictionary-neodict\"&gt;&lt;div class=\"dictionary-neodict-entry-title\"&gt;spending&lt;/div&gt;&lt;a class=\"has-tooltip dictionary-neodict-first-part-of-speech part_of_speech\" data-toggle=\"tooltip\" href=\"http://www.spanishdict.com/guide/masculine-and-feminine-nouns\" title=\"A noun is a word referring to a person, animal, place, thing, feeling or idea (e.g. man, dog, house).\"&gt;noun&lt;/a&gt;&lt;div class=\"dictionary-neodict-indent-1\"&gt;&lt;span class=\"def\"&gt;1. &lt;/span&gt;&lt;span class=\"context\"&gt;(finance)&lt;/span&gt; &lt;div class=\"dictionary-neodict-indent-2\"&gt;&lt;div class=\"dictionary-neodict-translation\"&gt;&lt;span class=\"dictionary-neodict-translation-letters\"&gt;a. &lt;/span&gt;&lt;a class=\"dictionary-neodict-translation-translation\" href=\"/translate/los%20gastos\"&gt;los gastos&lt;/a&gt;&lt;span class=\"def\"&gt; &lt;/span&gt;&lt;a class=\"has-tooltip def\" data-toggle=\"tooltip\" href=\"http://www.spanishdict.com/guide/masculine-and-feminine-nouns\" title=\"(m) means that a noun is masculine. Spanish nouns have a gender, which is either feminine (like ...</td>\n",
       "    </tr>\n",
       "    <tr>\n",
       "      <th>inequality</th>\n",
       "      <td>there are many channels through which opening up the capital account can lead to higher {{c1::inequality.}}</td>\n",
       "      <td>de capital puede incrementar la</td>\n",
       "      <td>&lt;div class=\"dictionary-entry dictionary-neodict\"&gt;&lt;div class=\"dictionary-neodict-entry-title\"&gt;inequality&lt;/div&gt;&lt;a class=\"has-tooltip dictionary-neodict-first-part-of-speech part_of_speech\" data-toggle=\"tooltip\" href=\"http://www.spanishdict.com/guide/masculine-and-feminine-nouns\" title=\"A noun is a word referring to a person, animal, place, thing, feeling or idea (e.g. man, dog, house).\"&gt;noun&lt;/a&gt;&lt;div class=\"dictionary-neodict-indent-1\"&gt;&lt;span class=\"def\"&gt;1. &lt;/span&gt;&lt;span class=\"context\"&gt;(general)&lt;/span&gt; &lt;div class=\"dictionary-neodict-indent-2\"&gt;&lt;div class=\"dictionary-neodict-translation\"&gt;&lt;span class=\"dictionary-neodict-translation-letters\"&gt;a. &lt;/span&gt;&lt;a class=\"dictionary-neodict-translation-translation\" href=\"/translate/la%20desigualdad\"&gt;la desigualdad&lt;/a&gt;&lt;span class=\"def\"&gt; &lt;/span&gt;&lt;a class=\"has-tooltip def\" data-toggle=\"tooltip\" href=\"http://www.spanishdict.com/guide/masculine-and-feminine-nouns\" title=\"(f) means that a noun is feminine. Spanish nouns have a gender, which is either femini...</td>\n",
       "    </tr>\n",
       "    <tr>\n",
       "      <th>banking</th>\n",
       "      <td>in fact, caribbean countries have been among the most affected by loss of correspondent {{c1::banking}} relationships.</td>\n",
       "      <td>De hecho, los países del Caribe han sido de los más afectados por la pérdida de relaciones de corresponsalía bancaria.</td>\n",
       "      <td>&lt;div class=\"dictionary-entry dictionary-neodict\"&gt;&lt;div class=\"dictionary-neodict-entry-title\"&gt;banking&lt;/div&gt;&lt;a class=\"has-tooltip dictionary-neodict-first-part-of-speech part_of_speech\" data-toggle=\"tooltip\" href=\"http://www.spanishdict.com/guide/masculine-and-feminine-nouns\" title=\"A noun is a word referring to a person, animal, place, thing, feeling or idea (e.g. man, dog, house).\"&gt;noun&lt;/a&gt;&lt;div class=\"dictionary-neodict-indent-1\"&gt;&lt;span class=\"def\"&gt;1. &lt;/span&gt;&lt;span class=\"context\"&gt;(financial business)&lt;/span&gt; &lt;div class=\"dictionary-neodict-indent-2\"&gt;&lt;div class=\"dictionary-neodict-translation\"&gt;&lt;span class=\"dictionary-neodict-translation-letters\"&gt;a. &lt;/span&gt;&lt;a class=\"dictionary-neodict-translation-translation\" href=\"/translate/la%20banca\"&gt;la banca&lt;/a&gt;&lt;span class=\"def\"&gt; &lt;/span&gt;&lt;a class=\"has-tooltip def\" data-toggle=\"tooltip\" href=\"http://www.spanishdict.com/guide/masculine-and-feminine-nouns\" title=\"(f) means that a noun is feminine. Spanish nouns have a gender, which is either feminine (...</td>\n",
       "    </tr>\n",
       "    <tr>\n",
       "      <th>macroeconomic</th>\n",
       "      <td>to be effective, regulations should provide incentives to firms to smooth the impact of {{c1::macroeconomic}} shocks.</td>\n",
       "      <td>Para ser eficaces, las normas deben alentar a las empresas a atenuar el efecto de los shocks macroeconómicos.</td>\n",
       "      <td>&lt;div class=\"dictionary-entry dictionary-collins\"&gt;&lt;div class=\"entry\"&gt;&lt;div class=\"hw_unit\"&gt;&lt;span class=\"hw\"&gt;macroeconomic&lt;/span&gt; &lt;span class=\"pron\"&gt;[ˌmækrəʊˌiːkəˈnɒmɪk]&lt;/span&gt; &lt;/div&gt;&lt;div class=\"gram_cat\"&gt;&lt;a name=\"adjective\"&gt;&lt;/a&gt;&lt;div class=\"entry_pos\"&gt;adjective&lt;/div&gt;&lt;span class=\"sense\"&gt;&lt;span class=\"tran_group\"&gt; &lt;span class=\"tran_main\"&gt;macroeconómico&lt;/span&gt;&lt;/span&gt;&lt;/span&gt;&lt;/div&gt;&lt;/div&gt;&lt;div class=\"d-copyright\"&gt;&lt;a href=\"http://www.collinsdictionary.com/dictionary/english-spanish\" rel=\"nofollow\"&gt;Collins Complete Spanish Electronic Dictionary © HarperCollins Publishers 2011&lt;/a&gt;&lt;/div&gt;&lt;/div&gt;</td>\n",
       "    </tr>\n",
       "    <tr>\n",
       "      <th>deficit</th>\n",
       "      <td>people often think that the program of growth, employment, and redistribution was about cutting the {{c1::deficit.}}</td>\n",
       "      <td>Se suele pensar que el programa de crecimiento, empleo y redistribución consistía en reducir el déficit.</td>\n",
       "      <td>&lt;div class=\"dictionary-entry dictionary-neodict\"&gt;&lt;div class=\"dictionary-neodict-entry-title\"&gt;deficit&lt;/div&gt;&lt;a class=\"has-tooltip dictionary-neodict-first-part-of-speech part_of_speech\" data-toggle=\"tooltip\" href=\"http://www.spanishdict.com/guide/masculine-and-feminine-nouns\" title=\"A noun is a word referring to a person, animal, place, thing, feeling or idea (e.g. man, dog, house).\"&gt;noun&lt;/a&gt;&lt;div class=\"dictionary-neodict-indent-1\"&gt;&lt;span class=\"def\"&gt;1. &lt;/span&gt;&lt;span class=\"context\"&gt;(finance)&lt;/span&gt; &lt;div class=\"dictionary-neodict-indent-2\"&gt;&lt;div class=\"dictionary-neodict-translation\"&gt;&lt;span class=\"dictionary-neodict-translation-letters\"&gt;a. &lt;/span&gt;&lt;a class=\"dictionary-neodict-translation-translation\" href=\"/translate/el%20d%C3%A9ficit\"&gt;el déficit&lt;/a&gt;&lt;span class=\"def\"&gt; &lt;/span&gt;&lt;a class=\"has-tooltip def\" data-toggle=\"tooltip\" href=\"http://www.spanishdict.com/guide/masculine-and-feminine-nouns\" title=\"(m) means that a noun is masculine. Spanish nouns have a gender, which is either feminine (l...</td>\n",
       "    </tr>\n",
       "    <tr>\n",
       "      <th>wage</th>\n",
       "      <td>but they are merely a high-{{c1::wage,}} capital- or skill-intensive drop in india's low{{c1::wage,}} unskilled, labor-abundant ocean.</td>\n",
       "      <td>Pero estos son solo una gota de agua de mano de obra de salarios altos y uso intensivo de capital en un océano de abundante mano de obra no calificada de salarios bajos.</td>\n",
       "      <td>&lt;div class=\"dictionary-entry dictionary-neodict\"&gt;&lt;div class=\"dictionary-neodict-entry-title\"&gt;wage&lt;/div&gt;&lt;a class=\"has-tooltip dictionary-neodict-first-part-of-speech part_of_speech\" data-toggle=\"tooltip\" href=\"http://www.spanishdict.com/guide/masculine-and-feminine-nouns\" title=\"A noun is a word referring to a person, animal, place, thing, feeling or idea (e.g. man, dog, house).\"&gt;noun&lt;/a&gt;&lt;div class=\"dictionary-neodict-indent-1\"&gt;&lt;span class=\"def\"&gt;1. &lt;/span&gt;&lt;span class=\"context\"&gt;(rate of pay)&lt;/span&gt; &lt;div class=\"dictionary-neodict-indent-2\"&gt;&lt;div class=\"dictionary-neodict-translation\"&gt;&lt;span class=\"dictionary-neodict-translation-letters\"&gt;a. &lt;/span&gt;&lt;a class=\"dictionary-neodict-translation-translation\" href=\"/translate/el%20salario\"&gt;el salario&lt;/a&gt;&lt;span class=\"def\"&gt; &lt;/span&gt;&lt;a class=\"has-tooltip def\" data-toggle=\"tooltip\" href=\"http://www.spanishdict.com/guide/masculine-and-feminine-nouns\" title=\"(m) means that a noun is masculine. Spanish nouns have a gender, which is either feminine (like ...</td>\n",
       "    </tr>\n",
       "    <tr>\n",
       "      <th>unemployment</th>\n",
       "      <td>because {{c1::unemployment}} follows growth with a delay, it is called a lagging indicator of economic activity.</td>\n",
       "      <td>Por ese motivo, el desempleo es un indicador rezagado de la actividad económica.</td>\n",
       "      <td>&lt;div class=\"dictionary-entry dictionary-neodict\"&gt;&lt;div class=\"dictionary-neodict-entry-title\"&gt;unemployment&lt;/div&gt;&lt;a class=\"has-tooltip dictionary-neodict-first-part-of-speech part_of_speech\" data-toggle=\"tooltip\" href=\"http://www.spanishdict.com/guide/masculine-and-feminine-nouns\" title=\"A noun is a word referring to a person, animal, place, thing, feeling or idea (e.g. man, dog, house).\"&gt;noun&lt;/a&gt;&lt;div class=\"dictionary-neodict-indent-1\"&gt;&lt;span class=\"def\"&gt;1. &lt;/span&gt;&lt;span class=\"context\"&gt;(lack of work)&lt;/span&gt; &lt;div class=\"dictionary-neodict-indent-2\"&gt;&lt;div class=\"dictionary-neodict-translation\"&gt;&lt;span class=\"dictionary-neodict-translation-letters\"&gt;a. &lt;/span&gt;&lt;a class=\"dictionary-neodict-translation-translation\" href=\"/translate/el%20desempleo\"&gt;el desempleo&lt;/a&gt;&lt;span class=\"def\"&gt; &lt;/span&gt;&lt;a class=\"has-tooltip def\" data-toggle=\"tooltip\" href=\"http://www.spanishdict.com/guide/masculine-and-feminine-nouns\" title=\"(m) means that a noun is masculine. Spanish nouns have a gender, which is either fe...</td>\n",
       "    </tr>\n",
       "    <tr>\n",
       "      <th>commodity</th>\n",
       "      <td>the latest sharp rise and fall in {{c1::commodity}} prices is not the first nor the last</td>\n",
       "      <td>Los recientes altibajos de los precios de las materias primas no son ni los primeros ni los últimos</td>\n",
       "      <td>&lt;div class=\"dictionary-entry dictionary-neodict\"&gt;&lt;div class=\"dictionary-neodict-entry-title\"&gt;commodity&lt;/div&gt;&lt;a class=\"has-tooltip dictionary-neodict-first-part-of-speech part_of_speech\" data-toggle=\"tooltip\" href=\"http://www.spanishdict.com/guide/masculine-and-feminine-nouns\" title=\"A noun is a word referring to a person, animal, place, thing, feeling or idea (e.g. man, dog, house).\"&gt;noun&lt;/a&gt;&lt;div class=\"dictionary-neodict-indent-1\"&gt;&lt;span class=\"def\"&gt;1. &lt;/span&gt;&lt;span class=\"context\"&gt;(commerce)&lt;/span&gt; &lt;div class=\"dictionary-neodict-indent-2\"&gt;&lt;div class=\"dictionary-neodict-translation\"&gt;&lt;span class=\"dictionary-neodict-translation-letters\"&gt;a. &lt;/span&gt;&lt;a class=\"dictionary-neodict-translation-translation\" href=\"/translate/el%20art%C3%ADculo\"&gt;el artículo&lt;/a&gt;&lt;span class=\"def\"&gt; &lt;/span&gt;&lt;a class=\"has-tooltip def\" data-toggle=\"tooltip\" href=\"http://www.spanishdict.com/guide/masculine-and-feminine-nouns\" title=\"(m) means that a noun is masculine. Spanish nouns have a gender, which is either femini...</td>\n",
       "    </tr>\n",
       "    <tr>\n",
       "      <th>output</th>\n",
       "      <td>it would help to spread out the adjustment, postponing some of it until {{c1::output}} has recovered.</td>\n",
       "      <td>Sería útil extender en el tiempo el ajuste y posponer parte del mismo hasta que el producto se haya recuperado.</td>\n",
       "      <td>&lt;div class=\"dictionary-entry dictionary-neodict\"&gt;&lt;div class=\"dictionary-neodict-entry-title\"&gt;output&lt;/div&gt;&lt;a class=\"has-tooltip dictionary-neodict-first-part-of-speech part_of_speech\" data-toggle=\"tooltip\" href=\"http://www.spanishdict.com/guide/masculine-and-feminine-nouns\" title=\"A noun is a word referring to a person, animal, place, thing, feeling or idea (e.g. man, dog, house).\"&gt;noun&lt;/a&gt;&lt;div class=\"dictionary-neodict-indent-1\"&gt;&lt;span class=\"def\"&gt;1. &lt;/span&gt;&lt;span class=\"context\"&gt;(amount produced)&lt;/span&gt; &lt;div class=\"dictionary-neodict-indent-2\"&gt;&lt;div class=\"dictionary-neodict-translation\"&gt;&lt;span class=\"dictionary-neodict-translation-letters\"&gt;a. &lt;/span&gt;&lt;a class=\"dictionary-neodict-translation-translation\" href=\"/translate/la%20producci%C3%B3n\"&gt;la producción&lt;/a&gt;&lt;span class=\"def\"&gt; &lt;/span&gt;&lt;a class=\"has-tooltip def\" data-toggle=\"tooltip\" href=\"http://www.spanishdict.com/guide/masculine-and-feminine-nouns\" title=\"(f) means that a noun is feminine. Spanish nouns have a gender, which is either...</td>\n",
       "    </tr>\n",
       "    <tr>\n",
       "      <th>framework</th>\n",
       "      <td>with a bad policy {{c1::framework,}} neither domestic nor foreign resources, including aid, will yield high returns.</td>\n",
       "      <td>Si ese marco es inadecuado, ni los recursos internos ni los externos, como la ayuda, servirán de mucho.</td>\n",
       "      <td>&lt;div class=\"dictionary-entry dictionary-neodict\"&gt;&lt;div class=\"dictionary-neodict-entry-title\"&gt;framework&lt;/div&gt;&lt;a class=\"has-tooltip dictionary-neodict-first-part-of-speech part_of_speech\" data-toggle=\"tooltip\" href=\"http://www.spanishdict.com/guide/masculine-and-feminine-nouns\" title=\"A noun is a word referring to a person, animal, place, thing, feeling or idea (e.g. man, dog, house).\"&gt;noun&lt;/a&gt;&lt;div class=\"dictionary-neodict-indent-1\"&gt;&lt;span class=\"def\"&gt;1. &lt;/span&gt;&lt;span class=\"context\"&gt;(construction)&lt;/span&gt; &lt;div class=\"dictionary-neodict-indent-2\"&gt;&lt;div class=\"dictionary-neodict-translation\"&gt;&lt;span class=\"dictionary-neodict-translation-letters\"&gt;a. &lt;/span&gt;&lt;a class=\"dictionary-neodict-translation-translation\" href=\"/translate/el%20armaz%C3%B3n\"&gt;el armazón&lt;/a&gt;&lt;span class=\"def\"&gt; &lt;/span&gt;&lt;a class=\"has-tooltip def\" data-toggle=\"tooltip\" href=\"http://www.spanishdict.com/guide/masculine-and-feminine-nouns\" title=\"(m) means that a noun is masculine. Spanish nouns have a gender, which is either femi...</td>\n",
       "    </tr>\n",
       "    <tr>\n",
       "      <th>financing</th>\n",
       "      <td>in addition, most external {{c1::financing}} is concentrated in a few large countries and a few sectors.</td>\n",
       "      <td>Además, la mayor parte del financiamiento externo se concentra en unos pocos países grandes y unos pocos sectores.</td>\n",
       "      <td>&lt;div class=\"dictionary-entry dictionary-neodict\"&gt;&lt;div class=\"dictionary-neodict-entry-title\"&gt;financing&lt;/div&gt;&lt;a class=\"has-tooltip dictionary-neodict-first-part-of-speech part_of_speech\" data-toggle=\"tooltip\" href=\"http://www.spanishdict.com/guide/masculine-and-feminine-nouns\" title=\"A noun is a word referring to a person, animal, place, thing, feeling or idea (e.g. man, dog, house).\"&gt;noun&lt;/a&gt;&lt;div class=\"dictionary-neodict-indent-1\"&gt;&lt;span class=\"def\"&gt;1. &lt;/span&gt;&lt;span class=\"context\"&gt;(provision of funds)&lt;/span&gt; &lt;div class=\"dictionary-neodict-indent-2\"&gt;&lt;div class=\"dictionary-neodict-translation\"&gt;&lt;span class=\"dictionary-neodict-translation-letters\"&gt;a. &lt;/span&gt;&lt;a class=\"dictionary-neodict-translation-translation\" href=\"/translate/la%20financiaci%C3%B3n\"&gt;la financiación&lt;/a&gt;&lt;span class=\"def\"&gt; &lt;/span&gt;&lt;a class=\"has-tooltip def\" data-toggle=\"tooltip\" href=\"http://www.spanishdict.com/guide/masculine-and-feminine-nouns\" title=\"(f) means that a noun is feminine. Spanish nouns have a gender, which...</td>\n",
       "    </tr>\n",
       "    <tr>\n",
       "      <th>euro</th>\n",
       "      <td>consider the {{c1::euro,}} for instance, widely considered to be the most natural rival to the dollar.</td>\n",
       "      <td>Tomemos como ejemplo el euro, ampliamente considerado como el contrincante más natural del dólar.</td>\n",
       "      <td>&lt;div class=\"dictionary-entry dictionary-neodict\"&gt;&lt;div class=\"dictionary-neodict-entry-title\"&gt;euro&lt;/div&gt;&lt;a class=\"has-tooltip dictionary-neodict-first-part-of-speech part_of_speech\" data-toggle=\"tooltip\" href=\"http://www.spanishdict.com/guide/masculine-and-feminine-nouns\" title=\"A noun is a word referring to a person, animal, place, thing, feeling or idea (e.g. man, dog, house).\"&gt;noun&lt;/a&gt;&lt;div class=\"dictionary-neodict-indent-1\"&gt;&lt;span class=\"def\"&gt;1. &lt;/span&gt;&lt;span class=\"context\"&gt;(currency)&lt;/span&gt; &lt;div class=\"dictionary-neodict-indent-2\"&gt;&lt;div class=\"dictionary-neodict-translation\"&gt;&lt;span class=\"dictionary-neodict-translation-letters\"&gt;a. &lt;/span&gt;&lt;a class=\"dictionary-neodict-translation-translation\" href=\"/translate/el%20euro\"&gt;el euro&lt;/a&gt;&lt;span class=\"def\"&gt; &lt;/span&gt;&lt;a class=\"has-tooltip def\" data-toggle=\"tooltip\" href=\"http://www.spanishdict.com/guide/masculine-and-feminine-nouns\" title=\"(m) means that a noun is masculine. Spanish nouns have a gender, which is either feminine (like la mujer ...</td>\n",
       "    </tr>\n",
       "    <tr>\n",
       "      <th>policymakers</th>\n",
       "      <td>as the period of accommodative monetary policy continued, {{c1::policymakers}} in emerging markets began to voice concerns.</td>\n",
       "      <td>Como el período de expansión monetaria continuaba, las autoridades de los mercados emergentes comenzaron a preocuparse.</td>\n",
       "      <td>&lt;div class=\"dictionary-entry dictionary-collins\"&gt;&lt;div class=\"entry\"&gt;&lt;div class=\"hw_unit\"&gt;&lt;span class=\"hw\"&gt;policy-maker&lt;/span&gt; &lt;span class=\"pron\"&gt;[ˈpɒlɪsɪˌmeɪkəʳ]&lt;/span&gt; &lt;/div&gt;&lt;div class=\"gram_cat\"&gt;&lt;a name=\"noun\"&gt;&lt;/a&gt;&lt;div class=\"entry_pos\"&gt;noun&lt;/div&gt;&lt;span class=\"sense\"&gt;&lt;span class=\"tran_group\"&gt; &lt;span class=\"tran_main\"&gt;diseñadoradiseñadora &lt;span class=\"tran_pos\" title=\"masculine\"&gt; (m)&lt;/span&gt;&lt;span class=\"tran_pos\" title=\"feminine\"&gt; (f)&lt;/span&gt; de políticas;&lt;span class=\"inflexion\"&gt;a&lt;/span&gt; &lt;span class=\"inflexion\"&gt;diseñadora&lt;/span&gt; &lt;/span&gt;&lt;/span&gt;&lt;div class=\"ex_group underlying\"&gt;&lt;span class=\"ex_unit\"&gt; &lt;span class=\"ex\"&gt;African policy-makers are warning that they do not have the economic or political strength to resist the World Bank's demands&lt;/span&gt;&lt;/span&gt;&lt;/div&gt;&lt;/span&gt;&lt;/div&gt;&lt;/div&gt;&lt;div class=\"d-copyright\"&gt;&lt;a href=\"http://www.collinsdictionary.com/dictionary/english-spanish\" rel=\"nofollow\"&gt;Collins Complete Spanish Electronic Dictionary © HarperCollins Publishers 2011&lt;/a&gt;&lt;/div&gt;&lt;/div&gt;</td>\n",
       "    </tr>\n",
       "    <tr>\n",
       "      <th>strengthen</th>\n",
       "      <td>· an in-depth look at imf policy advice, financial support, and capacity development to {{c1::strengthen}} economies.</td>\n",
       "      <td>·Un profundo estudio del asesoramiento en materia de políticas, el respaldo financiero y el fortalecimiento de las capacidades que el FMI ofrece para afianzar las economías.</td>\n",
       "      <td>&lt;div class=\"dictionary-entry dictionary-neodict\"&gt;&lt;div class=\"dictionary-neodict-entry-title\"&gt;strengthen&lt;/div&gt;&lt;a class=\"has-tooltip dictionary-neodict-first-part-of-speech part_of_speech\" data-toggle=\"tooltip\" href=\"http://www.spanishdict.com/guide/spanish-verb-types\" title=\"A transitive verb is a verb that requires a direct object (e.g. I bought a book.).\"&gt;transitive verb&lt;/a&gt;&lt;div class=\"dictionary-neodict-indent-1\"&gt;&lt;span class=\"def\"&gt;1. &lt;/span&gt;&lt;span class=\"context\"&gt;(to make physically stronger)&lt;/span&gt; &lt;div class=\"dictionary-neodict-indent-2\"&gt;&lt;div class=\"dictionary-neodict-translation\"&gt;&lt;span class=\"dictionary-neodict-translation-letters\"&gt;a. &lt;/span&gt;&lt;a class=\"dictionary-neodict-translation-translation\" href=\"/translate/fortalecer\"&gt;fortalecer&lt;/a&gt; &lt;span class=\"context\"&gt;(a muscle)&lt;/span&gt; &lt;/div&gt;&lt;div class=\"dictionary-neodict-indent-3\"&gt;&lt;div class=\"dictionary-neodict-example\"&gt;&lt;span&gt;This exercise will strengthen your back and prevent injury.&lt;/span&gt;&lt;span class=\"icon-dash\"&gt;&lt;/span&gt;&lt;em class=\"exB...</td>\n",
       "    </tr>\n",
       "    <tr>\n",
       "      <th>governance</th>\n",
       "      <td>the region's relative economic success appears to contradict the intuitive principle that good {{c1::governance}} accompanies development.</td>\n",
       "      <td>Su prosperidad relativa parece contradecir el principio de que una buena gestión va de la mano del desarrollo.</td>\n",
       "      <td>&lt;div class=\"dictionary-entry dictionary-neodict\"&gt;&lt;div class=\"dictionary-neodict-entry-title\"&gt;governance&lt;/div&gt;&lt;a class=\"has-tooltip dictionary-neodict-first-part-of-speech part_of_speech\" data-toggle=\"tooltip\" href=\"http://www.spanishdict.com/guide/masculine-and-feminine-nouns\" title=\"A noun is a word referring to a person, animal, place, thing, feeling or idea (e.g. man, dog, house).\"&gt;noun&lt;/a&gt;&lt;div class=\"dictionary-neodict-indent-1\"&gt;&lt;span class=\"def\"&gt;1. &lt;/span&gt;&lt;span class=\"context\"&gt;(way of governing)&lt;/span&gt; &lt;div class=\"dictionary-neodict-indent-2\"&gt;&lt;div class=\"dictionary-neodict-translation\"&gt;&lt;span class=\"dictionary-neodict-translation-letters\"&gt;a. &lt;/span&gt;&lt;a class=\"dictionary-neodict-translation-translation\" href=\"/translate/la%20gobernanza\"&gt;la gobernanza&lt;/a&gt;&lt;span class=\"def\"&gt; &lt;/span&gt;&lt;a class=\"has-tooltip def\" data-toggle=\"tooltip\" href=\"http://www.spanishdict.com/guide/masculine-and-feminine-nouns\" title=\"(f) means that a noun is feminine. Spanish nouns have a gender, which is either...</td>\n",
       "    </tr>\n",
       "    <tr>\n",
       "      <th>regulatory</th>\n",
       "      <td>but some domestic {{c1::regulatory}} changes have added to the desire to retreat to their home base.</td>\n",
       "      <td>Pero algunos cambios regulatorios internos también han incitado a estos bancos a volver a sus respectivas bases nacionales de operaciones.</td>\n",
       "      <td>&lt;div class=\"dictionary-entry dictionary-neodict\"&gt;&lt;div class=\"dictionary-neodict-entry-title\"&gt;regulatory&lt;/div&gt;&lt;a class=\"has-tooltip dictionary-neodict-first-part-of-speech part_of_speech\" data-toggle=\"tooltip\" href=\"http://www.spanishdict.com/guide/descriptive-adjectives-in-spanish\" title=\"An adjective is a word that describes a noun (e.g. the big dog).\"&gt;adjective&lt;/a&gt;&lt;div class=\"dictionary-neodict-indent-1\"&gt;&lt;span class=\"def\"&gt;1. &lt;/span&gt;&lt;span class=\"context\"&gt;(general)&lt;/span&gt; &lt;div class=\"dictionary-neodict-indent-2\"&gt;&lt;div class=\"dictionary-neodict-translation\"&gt;&lt;span class=\"dictionary-neodict-translation-letters\"&gt;a. &lt;/span&gt;&lt;a class=\"dictionary-neodict-translation-translation\" href=\"/translate/regulador\"&gt;regulador&lt;/a&gt; &lt;/div&gt;&lt;div class=\"dictionary-neodict-indent-3\"&gt;&lt;div class=\"dictionary-neodict-example\"&gt;&lt;span&gt;This regulatory body mandates that all professionals recertify every ten years.&lt;/span&gt;&lt;span class=\"icon-dash\"&gt;&lt;/span&gt;&lt;em class=\"exB\"&gt;Este organismo regulador exige que todos los prof...</td>\n",
       "    </tr>\n",
       "    <tr>\n",
       "      <th>employment</th>\n",
       "      <td>in turn, failure to secure sustainable economic growth and high {{c1::employment}} would undermine central bank credibility.</td>\n",
       "      <td>A su vez, no lograr un crecimiento económico sostenido ni un elevado nivel de empleo socavaría la credibilidad del banco central.</td>\n",
       "      <td>&lt;div class=\"dictionary-entry dictionary-neodict\"&gt;&lt;div class=\"dictionary-neodict-entry-title\"&gt;employment&lt;/div&gt;&lt;a class=\"has-tooltip dictionary-neodict-first-part-of-speech part_of_speech\" data-toggle=\"tooltip\" href=\"http://www.spanishdict.com/guide/masculine-and-feminine-nouns\" title=\"A noun is a word referring to a person, animal, place, thing, feeling or idea (e.g. man, dog, house).\"&gt;noun&lt;/a&gt;&lt;div class=\"dictionary-neodict-indent-1\"&gt;&lt;span class=\"def\"&gt;1. &lt;/span&gt;&lt;span class=\"context\"&gt;(work)&lt;/span&gt; &lt;div class=\"dictionary-neodict-indent-2\"&gt;&lt;div class=\"dictionary-neodict-translation\"&gt;&lt;span class=\"dictionary-neodict-translation-letters\"&gt;a. &lt;/span&gt;&lt;a class=\"dictionary-neodict-translation-translation\" href=\"/translate/el%20empleo\"&gt;el empleo&lt;/a&gt;&lt;span class=\"def\"&gt; &lt;/span&gt;&lt;a class=\"has-tooltip def\" data-toggle=\"tooltip\" href=\"http://www.spanishdict.com/guide/masculine-and-feminine-nouns\" title=\"(m) means that a noun is masculine. Spanish nouns have a gender, which is either feminine (like la ...</td>\n",
       "    </tr>\n",
       "    <tr>\n",
       "      <th>globalization</th>\n",
       "      <td>britain's vote to exit the european union has been widely interpreted as a retreat from {{c1::globalization.}}</td>\n",
       "      <td>EN GENERAL, el voto británico a favor del Brexit se ha interpretado como un abandono de la globalización.</td>\n",
       "      <td>&lt;div class=\"dictionary-entry dictionary-neodict\"&gt;&lt;div class=\"dictionary-neodict-entry-title\"&gt;globalization&lt;/div&gt;&lt;a class=\"has-tooltip dictionary-neodict-first-part-of-speech part_of_speech\" data-toggle=\"tooltip\" href=\"http://www.spanishdict.com/guide/masculine-and-feminine-nouns\" title=\"A noun is a word referring to a person, animal, place, thing, feeling or idea (e.g. man, dog, house).\"&gt;noun&lt;/a&gt;&lt;div class=\"dictionary-neodict-indent-1\"&gt;&lt;span class=\"def\"&gt;1. &lt;/span&gt;&lt;span class=\"context\"&gt;(general)&lt;/span&gt; &lt;div class=\"dictionary-neodict-indent-2\"&gt;&lt;div class=\"dictionary-neodict-translation\"&gt;&lt;span class=\"dictionary-neodict-translation-letters\"&gt;a. &lt;/span&gt;&lt;a class=\"dictionary-neodict-translation-translation\" href=\"/translate/la%20globalizaci%C3%B3n\"&gt;la globalización&lt;/a&gt;&lt;span class=\"def\"&gt; &lt;/span&gt;&lt;a class=\"has-tooltip def\" data-toggle=\"tooltip\" href=\"http://www.spanishdict.com/guide/masculine-and-feminine-nouns\" title=\"(f) means that a noun is feminine. Spanish nouns have a gender, which is e...</td>\n",
       "    </tr>\n",
       "  </tbody>\n",
       "</table>\n",
       "</div>"
      ],
      "text/plain": [
       "                                                                                                                                                ex0_cloze  \\\n",
       "word                                                                                                                                                        \n",
       "currency                                                     but what goes up does not come down so easily when there is no independent {{c1::currency.}}   \n",
       "poverty                                                          she wants it to be part of a data revolution to guide the fight against {{c1::poverty.}}   \n",
       "spending                  canada, meanwhile, implemented profound structural reforms in {{c1::spending}} and tax policy that had a longer-lasting impact.   \n",
       "inequality                                    there are many channels through which opening up the capital account can lead to higher {{c1::inequality.}}   \n",
       "banking                            in fact, caribbean countries have been among the most affected by loss of correspondent {{c1::banking}} relationships.   \n",
       "macroeconomic                       to be effective, regulations should provide incentives to firms to smooth the impact of {{c1::macroeconomic}} shocks.   \n",
       "deficit                              people often think that the program of growth, employment, and redistribution was about cutting the {{c1::deficit.}}   \n",
       "wage               but they are merely a high-{{c1::wage,}} capital- or skill-intensive drop in india's low{{c1::wage,}} unskilled, labor-abundant ocean.   \n",
       "unemployment                             because {{c1::unemployment}} follows growth with a delay, it is called a lagging indicator of economic activity.   \n",
       "commodity                                                        the latest sharp rise and fall in {{c1::commodity}} prices is not the first nor the last   \n",
       "output                                              it would help to spread out the adjustment, postponing some of it until {{c1::output}} has recovered.   \n",
       "framework                            with a bad policy {{c1::framework,}} neither domestic nor foreign resources, including aid, will yield high returns.   \n",
       "financing                                        in addition, most external {{c1::financing}} is concentrated in a few large countries and a few sectors.   \n",
       "euro                                               consider the {{c1::euro,}} for instance, widely considered to be the most natural rival to the dollar.   \n",
       "policymakers                  as the period of accommodative monetary policy continued, {{c1::policymakers}} in emerging markets began to voice concerns.   \n",
       "strengthen                          · an in-depth look at imf policy advice, financial support, and capacity development to {{c1::strengthen}} economies.   \n",
       "governance     the region's relative economic success appears to contradict the intuitive principle that good {{c1::governance}} accompanies development.   \n",
       "regulatory                                           but some domestic {{c1::regulatory}} changes have added to the desire to retreat to their home base.   \n",
       "employment                   in turn, failure to secure sustainable economic growth and high {{c1::employment}} would undermine central bank credibility.   \n",
       "globalization                              britain's vote to exit the european union has been widely interpreted as a retreat from {{c1::globalization.}}   \n",
       "\n",
       "                                                                                                                                                                                     ex0_spa  \\\n",
       "word                                                                                                                                                                                           \n",
       "currency                                                                                                      Pero lo que sube no baja con tanta facilidad si la moneda no es independiente.   \n",
       "poverty                                                                                   Quiere que sea parte de una revolución en materia de datos que oriente la lucha contra la pobreza.   \n",
       "spending                                    Canadá, entre tanto, puso en marcha profundas reformas estructurales de la política de gasto y tributación que tuvieron un impacto más duradero.   \n",
       "inequality                                                                                                                                                   de capital puede incrementar la   \n",
       "banking                                                               De hecho, los países del Caribe han sido de los más afectados por la pérdida de relaciones de corresponsalía bancaria.   \n",
       "macroeconomic                                                                  Para ser eficaces, las normas deben alentar a las empresas a atenuar el efecto de los shocks macroeconómicos.   \n",
       "deficit                                                                             Se suele pensar que el programa de crecimiento, empleo y redistribución consistía en reducir el déficit.   \n",
       "wage               Pero estos son solo una gota de agua de mano de obra de salarios altos y uso intensivo de capital en un océano de abundante mano de obra no calificada de salarios bajos.   \n",
       "unemployment                                                                                                Por ese motivo, el desempleo es un indicador rezagado de la actividad económica.   \n",
       "commodity                                                                                Los recientes altibajos de los precios de las materias primas no son ni los primeros ni los últimos   \n",
       "output                                                                       Sería útil extender en el tiempo el ajuste y posponer parte del mismo hasta que el producto se haya recuperado.   \n",
       "framework                                                                            Si ese marco es inadecuado, ni los recursos internos ni los externos, como la ayuda, servirán de mucho.   \n",
       "financing                                                                 Además, la mayor parte del financiamiento externo se concentra en unos pocos países grandes y unos pocos sectores.   \n",
       "euro                                                                                       Tomemos como ejemplo el euro, ampliamente considerado como el contrincante más natural del dólar.   \n",
       "policymakers                                                         Como el período de expansión monetaria continuaba, las autoridades de los mercados emergentes comenzaron a preocuparse.   \n",
       "strengthen     ·Un profundo estudio del asesoramiento en materia de políticas, el respaldo financiero y el fortalecimiento de las capacidades que el FMI ofrece para afianzar las economías.   \n",
       "governance                                                                    Su prosperidad relativa parece contradecir el principio de que una buena gestión va de la mano del desarrollo.   \n",
       "regulatory                                        Pero algunos cambios regulatorios internos también han incitado a estos bancos a volver a sus respectivas bases nacionales de operaciones.   \n",
       "employment                                                 A su vez, no lograr un crecimiento económico sostenido ni un elevado nivel de empleo socavaría la credibilidad del banco central.   \n",
       "globalization                                                                      EN GENERAL, el voto británico a favor del Brexit se ha interpretado como un abandono de la globalización.   \n",
       "\n",
       "                                                                                                                                                                                                                                                                                                                                                                                                                                                                                                                                                                                                                                                                                                                                                                                                                                                                                                                                                                                                                                           definitions  \n",
       "word                                                                                                                                                                                                                                                                                                                                                                                                                                                                                                                                                                                                                                                                                                                                                                                                                                                                                                                                                                                                                                                    \n",
       "currency       <div class=\"dictionary-entry dictionary-neodict\"><div class=\"dictionary-neodict-entry-title\">currency</div><a class=\"has-tooltip dictionary-neodict-first-part-of-speech part_of_speech\" data-toggle=\"tooltip\" href=\"http://www.spanishdict.com/guide/masculine-and-feminine-nouns\" title=\"A noun is a word referring to a person, animal, place, thing, feeling or idea (e.g. man, dog, house).\">noun</a><div class=\"dictionary-neodict-indent-1\"><span class=\"def\">1. </span><span class=\"context\">(finance)</span> <div class=\"dictionary-neodict-indent-2\"><div class=\"dictionary-neodict-translation\"><span class=\"dictionary-neodict-translation-letters\">a. </span><a class=\"dictionary-neodict-translation-translation\" href=\"/translate/la%20moneda\">la moneda</a><span class=\"def\"> </span><a class=\"has-tooltip def\" data-toggle=\"tooltip\" href=\"http://www.spanishdict.com/guide/masculine-and-feminine-nouns\" title=\"(f) means that a noun is feminine. Spanish nouns have a gender, which is either feminine (like la ...  \n",
       "poverty        <div class=\"dictionary-entry dictionary-neodict\"><div class=\"dictionary-neodict-entry-title\">poverty</div><a class=\"has-tooltip dictionary-neodict-first-part-of-speech part_of_speech\" data-toggle=\"tooltip\" href=\"http://www.spanishdict.com/guide/masculine-and-feminine-nouns\" title=\"A noun is a word referring to a person, animal, place, thing, feeling or idea (e.g. man, dog, house).\">noun</a><div class=\"dictionary-neodict-indent-1\"><span class=\"def\">1. </span><span class=\"context\">(state of being poor)</span> <div class=\"dictionary-neodict-indent-2\"><div class=\"dictionary-neodict-translation\"><span class=\"dictionary-neodict-translation-letters\">a. </span><a class=\"dictionary-neodict-translation-translation\" href=\"/translate/la%20pobreza\">la pobreza</a><span class=\"def\"> </span><a class=\"has-tooltip def\" data-toggle=\"tooltip\" href=\"http://www.spanishdict.com/guide/masculine-and-feminine-nouns\" title=\"(f) means that a noun is feminine. Spanish nouns have a gender, which is either femin...  \n",
       "spending       <div class=\"dictionary-entry dictionary-neodict\"><div class=\"dictionary-neodict-entry-title\">spending</div><a class=\"has-tooltip dictionary-neodict-first-part-of-speech part_of_speech\" data-toggle=\"tooltip\" href=\"http://www.spanishdict.com/guide/masculine-and-feminine-nouns\" title=\"A noun is a word referring to a person, animal, place, thing, feeling or idea (e.g. man, dog, house).\">noun</a><div class=\"dictionary-neodict-indent-1\"><span class=\"def\">1. </span><span class=\"context\">(finance)</span> <div class=\"dictionary-neodict-indent-2\"><div class=\"dictionary-neodict-translation\"><span class=\"dictionary-neodict-translation-letters\">a. </span><a class=\"dictionary-neodict-translation-translation\" href=\"/translate/los%20gastos\">los gastos</a><span class=\"def\"> </span><a class=\"has-tooltip def\" data-toggle=\"tooltip\" href=\"http://www.spanishdict.com/guide/masculine-and-feminine-nouns\" title=\"(m) means that a noun is masculine. Spanish nouns have a gender, which is either feminine (like ...  \n",
       "inequality     <div class=\"dictionary-entry dictionary-neodict\"><div class=\"dictionary-neodict-entry-title\">inequality</div><a class=\"has-tooltip dictionary-neodict-first-part-of-speech part_of_speech\" data-toggle=\"tooltip\" href=\"http://www.spanishdict.com/guide/masculine-and-feminine-nouns\" title=\"A noun is a word referring to a person, animal, place, thing, feeling or idea (e.g. man, dog, house).\">noun</a><div class=\"dictionary-neodict-indent-1\"><span class=\"def\">1. </span><span class=\"context\">(general)</span> <div class=\"dictionary-neodict-indent-2\"><div class=\"dictionary-neodict-translation\"><span class=\"dictionary-neodict-translation-letters\">a. </span><a class=\"dictionary-neodict-translation-translation\" href=\"/translate/la%20desigualdad\">la desigualdad</a><span class=\"def\"> </span><a class=\"has-tooltip def\" data-toggle=\"tooltip\" href=\"http://www.spanishdict.com/guide/masculine-and-feminine-nouns\" title=\"(f) means that a noun is feminine. Spanish nouns have a gender, which is either femini...  \n",
       "banking        <div class=\"dictionary-entry dictionary-neodict\"><div class=\"dictionary-neodict-entry-title\">banking</div><a class=\"has-tooltip dictionary-neodict-first-part-of-speech part_of_speech\" data-toggle=\"tooltip\" href=\"http://www.spanishdict.com/guide/masculine-and-feminine-nouns\" title=\"A noun is a word referring to a person, animal, place, thing, feeling or idea (e.g. man, dog, house).\">noun</a><div class=\"dictionary-neodict-indent-1\"><span class=\"def\">1. </span><span class=\"context\">(financial business)</span> <div class=\"dictionary-neodict-indent-2\"><div class=\"dictionary-neodict-translation\"><span class=\"dictionary-neodict-translation-letters\">a. </span><a class=\"dictionary-neodict-translation-translation\" href=\"/translate/la%20banca\">la banca</a><span class=\"def\"> </span><a class=\"has-tooltip def\" data-toggle=\"tooltip\" href=\"http://www.spanishdict.com/guide/masculine-and-feminine-nouns\" title=\"(f) means that a noun is feminine. Spanish nouns have a gender, which is either feminine (...  \n",
       "macroeconomic                                                                                                                                                                                                                                                                                                                                                                                                                                <div class=\"dictionary-entry dictionary-collins\"><div class=\"entry\"><div class=\"hw_unit\"><span class=\"hw\">macroeconomic</span> <span class=\"pron\">[ˌmækrəʊˌiːkəˈnɒmɪk]</span> </div><div class=\"gram_cat\"><a name=\"adjective\"></a><div class=\"entry_pos\">adjective</div><span class=\"sense\"><span class=\"tran_group\"> <span class=\"tran_main\">macroeconómico</span></span></span></div></div><div class=\"d-copyright\"><a href=\"http://www.collinsdictionary.com/dictionary/english-spanish\" rel=\"nofollow\">Collins Complete Spanish Electronic Dictionary © HarperCollins Publishers 2011</a></div></div>  \n",
       "deficit        <div class=\"dictionary-entry dictionary-neodict\"><div class=\"dictionary-neodict-entry-title\">deficit</div><a class=\"has-tooltip dictionary-neodict-first-part-of-speech part_of_speech\" data-toggle=\"tooltip\" href=\"http://www.spanishdict.com/guide/masculine-and-feminine-nouns\" title=\"A noun is a word referring to a person, animal, place, thing, feeling or idea (e.g. man, dog, house).\">noun</a><div class=\"dictionary-neodict-indent-1\"><span class=\"def\">1. </span><span class=\"context\">(finance)</span> <div class=\"dictionary-neodict-indent-2\"><div class=\"dictionary-neodict-translation\"><span class=\"dictionary-neodict-translation-letters\">a. </span><a class=\"dictionary-neodict-translation-translation\" href=\"/translate/el%20d%C3%A9ficit\">el déficit</a><span class=\"def\"> </span><a class=\"has-tooltip def\" data-toggle=\"tooltip\" href=\"http://www.spanishdict.com/guide/masculine-and-feminine-nouns\" title=\"(m) means that a noun is masculine. Spanish nouns have a gender, which is either feminine (l...  \n",
       "wage           <div class=\"dictionary-entry dictionary-neodict\"><div class=\"dictionary-neodict-entry-title\">wage</div><a class=\"has-tooltip dictionary-neodict-first-part-of-speech part_of_speech\" data-toggle=\"tooltip\" href=\"http://www.spanishdict.com/guide/masculine-and-feminine-nouns\" title=\"A noun is a word referring to a person, animal, place, thing, feeling or idea (e.g. man, dog, house).\">noun</a><div class=\"dictionary-neodict-indent-1\"><span class=\"def\">1. </span><span class=\"context\">(rate of pay)</span> <div class=\"dictionary-neodict-indent-2\"><div class=\"dictionary-neodict-translation\"><span class=\"dictionary-neodict-translation-letters\">a. </span><a class=\"dictionary-neodict-translation-translation\" href=\"/translate/el%20salario\">el salario</a><span class=\"def\"> </span><a class=\"has-tooltip def\" data-toggle=\"tooltip\" href=\"http://www.spanishdict.com/guide/masculine-and-feminine-nouns\" title=\"(m) means that a noun is masculine. Spanish nouns have a gender, which is either feminine (like ...  \n",
       "unemployment   <div class=\"dictionary-entry dictionary-neodict\"><div class=\"dictionary-neodict-entry-title\">unemployment</div><a class=\"has-tooltip dictionary-neodict-first-part-of-speech part_of_speech\" data-toggle=\"tooltip\" href=\"http://www.spanishdict.com/guide/masculine-and-feminine-nouns\" title=\"A noun is a word referring to a person, animal, place, thing, feeling or idea (e.g. man, dog, house).\">noun</a><div class=\"dictionary-neodict-indent-1\"><span class=\"def\">1. </span><span class=\"context\">(lack of work)</span> <div class=\"dictionary-neodict-indent-2\"><div class=\"dictionary-neodict-translation\"><span class=\"dictionary-neodict-translation-letters\">a. </span><a class=\"dictionary-neodict-translation-translation\" href=\"/translate/el%20desempleo\">el desempleo</a><span class=\"def\"> </span><a class=\"has-tooltip def\" data-toggle=\"tooltip\" href=\"http://www.spanishdict.com/guide/masculine-and-feminine-nouns\" title=\"(m) means that a noun is masculine. Spanish nouns have a gender, which is either fe...  \n",
       "commodity      <div class=\"dictionary-entry dictionary-neodict\"><div class=\"dictionary-neodict-entry-title\">commodity</div><a class=\"has-tooltip dictionary-neodict-first-part-of-speech part_of_speech\" data-toggle=\"tooltip\" href=\"http://www.spanishdict.com/guide/masculine-and-feminine-nouns\" title=\"A noun is a word referring to a person, animal, place, thing, feeling or idea (e.g. man, dog, house).\">noun</a><div class=\"dictionary-neodict-indent-1\"><span class=\"def\">1. </span><span class=\"context\">(commerce)</span> <div class=\"dictionary-neodict-indent-2\"><div class=\"dictionary-neodict-translation\"><span class=\"dictionary-neodict-translation-letters\">a. </span><a class=\"dictionary-neodict-translation-translation\" href=\"/translate/el%20art%C3%ADculo\">el artículo</a><span class=\"def\"> </span><a class=\"has-tooltip def\" data-toggle=\"tooltip\" href=\"http://www.spanishdict.com/guide/masculine-and-feminine-nouns\" title=\"(m) means that a noun is masculine. Spanish nouns have a gender, which is either femini...  \n",
       "output         <div class=\"dictionary-entry dictionary-neodict\"><div class=\"dictionary-neodict-entry-title\">output</div><a class=\"has-tooltip dictionary-neodict-first-part-of-speech part_of_speech\" data-toggle=\"tooltip\" href=\"http://www.spanishdict.com/guide/masculine-and-feminine-nouns\" title=\"A noun is a word referring to a person, animal, place, thing, feeling or idea (e.g. man, dog, house).\">noun</a><div class=\"dictionary-neodict-indent-1\"><span class=\"def\">1. </span><span class=\"context\">(amount produced)</span> <div class=\"dictionary-neodict-indent-2\"><div class=\"dictionary-neodict-translation\"><span class=\"dictionary-neodict-translation-letters\">a. </span><a class=\"dictionary-neodict-translation-translation\" href=\"/translate/la%20producci%C3%B3n\">la producción</a><span class=\"def\"> </span><a class=\"has-tooltip def\" data-toggle=\"tooltip\" href=\"http://www.spanishdict.com/guide/masculine-and-feminine-nouns\" title=\"(f) means that a noun is feminine. Spanish nouns have a gender, which is either...  \n",
       "framework      <div class=\"dictionary-entry dictionary-neodict\"><div class=\"dictionary-neodict-entry-title\">framework</div><a class=\"has-tooltip dictionary-neodict-first-part-of-speech part_of_speech\" data-toggle=\"tooltip\" href=\"http://www.spanishdict.com/guide/masculine-and-feminine-nouns\" title=\"A noun is a word referring to a person, animal, place, thing, feeling or idea (e.g. man, dog, house).\">noun</a><div class=\"dictionary-neodict-indent-1\"><span class=\"def\">1. </span><span class=\"context\">(construction)</span> <div class=\"dictionary-neodict-indent-2\"><div class=\"dictionary-neodict-translation\"><span class=\"dictionary-neodict-translation-letters\">a. </span><a class=\"dictionary-neodict-translation-translation\" href=\"/translate/el%20armaz%C3%B3n\">el armazón</a><span class=\"def\"> </span><a class=\"has-tooltip def\" data-toggle=\"tooltip\" href=\"http://www.spanishdict.com/guide/masculine-and-feminine-nouns\" title=\"(m) means that a noun is masculine. Spanish nouns have a gender, which is either femi...  \n",
       "financing      <div class=\"dictionary-entry dictionary-neodict\"><div class=\"dictionary-neodict-entry-title\">financing</div><a class=\"has-tooltip dictionary-neodict-first-part-of-speech part_of_speech\" data-toggle=\"tooltip\" href=\"http://www.spanishdict.com/guide/masculine-and-feminine-nouns\" title=\"A noun is a word referring to a person, animal, place, thing, feeling or idea (e.g. man, dog, house).\">noun</a><div class=\"dictionary-neodict-indent-1\"><span class=\"def\">1. </span><span class=\"context\">(provision of funds)</span> <div class=\"dictionary-neodict-indent-2\"><div class=\"dictionary-neodict-translation\"><span class=\"dictionary-neodict-translation-letters\">a. </span><a class=\"dictionary-neodict-translation-translation\" href=\"/translate/la%20financiaci%C3%B3n\">la financiación</a><span class=\"def\"> </span><a class=\"has-tooltip def\" data-toggle=\"tooltip\" href=\"http://www.spanishdict.com/guide/masculine-and-feminine-nouns\" title=\"(f) means that a noun is feminine. Spanish nouns have a gender, which...  \n",
       "euro           <div class=\"dictionary-entry dictionary-neodict\"><div class=\"dictionary-neodict-entry-title\">euro</div><a class=\"has-tooltip dictionary-neodict-first-part-of-speech part_of_speech\" data-toggle=\"tooltip\" href=\"http://www.spanishdict.com/guide/masculine-and-feminine-nouns\" title=\"A noun is a word referring to a person, animal, place, thing, feeling or idea (e.g. man, dog, house).\">noun</a><div class=\"dictionary-neodict-indent-1\"><span class=\"def\">1. </span><span class=\"context\">(currency)</span> <div class=\"dictionary-neodict-indent-2\"><div class=\"dictionary-neodict-translation\"><span class=\"dictionary-neodict-translation-letters\">a. </span><a class=\"dictionary-neodict-translation-translation\" href=\"/translate/el%20euro\">el euro</a><span class=\"def\"> </span><a class=\"has-tooltip def\" data-toggle=\"tooltip\" href=\"http://www.spanishdict.com/guide/masculine-and-feminine-nouns\" title=\"(m) means that a noun is masculine. Spanish nouns have a gender, which is either feminine (like la mujer ...  \n",
       "policymakers               <div class=\"dictionary-entry dictionary-collins\"><div class=\"entry\"><div class=\"hw_unit\"><span class=\"hw\">policy-maker</span> <span class=\"pron\">[ˈpɒlɪsɪˌmeɪkəʳ]</span> </div><div class=\"gram_cat\"><a name=\"noun\"></a><div class=\"entry_pos\">noun</div><span class=\"sense\"><span class=\"tran_group\"> <span class=\"tran_main\">diseñadoradiseñadora <span class=\"tran_pos\" title=\"masculine\"> (m)</span><span class=\"tran_pos\" title=\"feminine\"> (f)</span> de políticas;<span class=\"inflexion\">a</span> <span class=\"inflexion\">diseñadora</span> </span></span><div class=\"ex_group underlying\"><span class=\"ex_unit\"> <span class=\"ex\">African policy-makers are warning that they do not have the economic or political strength to resist the World Bank's demands</span></span></div></span></div></div><div class=\"d-copyright\"><a href=\"http://www.collinsdictionary.com/dictionary/english-spanish\" rel=\"nofollow\">Collins Complete Spanish Electronic Dictionary © HarperCollins Publishers 2011</a></div></div>  \n",
       "strengthen     <div class=\"dictionary-entry dictionary-neodict\"><div class=\"dictionary-neodict-entry-title\">strengthen</div><a class=\"has-tooltip dictionary-neodict-first-part-of-speech part_of_speech\" data-toggle=\"tooltip\" href=\"http://www.spanishdict.com/guide/spanish-verb-types\" title=\"A transitive verb is a verb that requires a direct object (e.g. I bought a book.).\">transitive verb</a><div class=\"dictionary-neodict-indent-1\"><span class=\"def\">1. </span><span class=\"context\">(to make physically stronger)</span> <div class=\"dictionary-neodict-indent-2\"><div class=\"dictionary-neodict-translation\"><span class=\"dictionary-neodict-translation-letters\">a. </span><a class=\"dictionary-neodict-translation-translation\" href=\"/translate/fortalecer\">fortalecer</a> <span class=\"context\">(a muscle)</span> </div><div class=\"dictionary-neodict-indent-3\"><div class=\"dictionary-neodict-example\"><span>This exercise will strengthen your back and prevent injury.</span><span class=\"icon-dash\"></span><em class=\"exB...  \n",
       "governance     <div class=\"dictionary-entry dictionary-neodict\"><div class=\"dictionary-neodict-entry-title\">governance</div><a class=\"has-tooltip dictionary-neodict-first-part-of-speech part_of_speech\" data-toggle=\"tooltip\" href=\"http://www.spanishdict.com/guide/masculine-and-feminine-nouns\" title=\"A noun is a word referring to a person, animal, place, thing, feeling or idea (e.g. man, dog, house).\">noun</a><div class=\"dictionary-neodict-indent-1\"><span class=\"def\">1. </span><span class=\"context\">(way of governing)</span> <div class=\"dictionary-neodict-indent-2\"><div class=\"dictionary-neodict-translation\"><span class=\"dictionary-neodict-translation-letters\">a. </span><a class=\"dictionary-neodict-translation-translation\" href=\"/translate/la%20gobernanza\">la gobernanza</a><span class=\"def\"> </span><a class=\"has-tooltip def\" data-toggle=\"tooltip\" href=\"http://www.spanishdict.com/guide/masculine-and-feminine-nouns\" title=\"(f) means that a noun is feminine. Spanish nouns have a gender, which is either...  \n",
       "regulatory     <div class=\"dictionary-entry dictionary-neodict\"><div class=\"dictionary-neodict-entry-title\">regulatory</div><a class=\"has-tooltip dictionary-neodict-first-part-of-speech part_of_speech\" data-toggle=\"tooltip\" href=\"http://www.spanishdict.com/guide/descriptive-adjectives-in-spanish\" title=\"An adjective is a word that describes a noun (e.g. the big dog).\">adjective</a><div class=\"dictionary-neodict-indent-1\"><span class=\"def\">1. </span><span class=\"context\">(general)</span> <div class=\"dictionary-neodict-indent-2\"><div class=\"dictionary-neodict-translation\"><span class=\"dictionary-neodict-translation-letters\">a. </span><a class=\"dictionary-neodict-translation-translation\" href=\"/translate/regulador\">regulador</a> </div><div class=\"dictionary-neodict-indent-3\"><div class=\"dictionary-neodict-example\"><span>This regulatory body mandates that all professionals recertify every ten years.</span><span class=\"icon-dash\"></span><em class=\"exB\">Este organismo regulador exige que todos los prof...  \n",
       "employment     <div class=\"dictionary-entry dictionary-neodict\"><div class=\"dictionary-neodict-entry-title\">employment</div><a class=\"has-tooltip dictionary-neodict-first-part-of-speech part_of_speech\" data-toggle=\"tooltip\" href=\"http://www.spanishdict.com/guide/masculine-and-feminine-nouns\" title=\"A noun is a word referring to a person, animal, place, thing, feeling or idea (e.g. man, dog, house).\">noun</a><div class=\"dictionary-neodict-indent-1\"><span class=\"def\">1. </span><span class=\"context\">(work)</span> <div class=\"dictionary-neodict-indent-2\"><div class=\"dictionary-neodict-translation\"><span class=\"dictionary-neodict-translation-letters\">a. </span><a class=\"dictionary-neodict-translation-translation\" href=\"/translate/el%20empleo\">el empleo</a><span class=\"def\"> </span><a class=\"has-tooltip def\" data-toggle=\"tooltip\" href=\"http://www.spanishdict.com/guide/masculine-and-feminine-nouns\" title=\"(m) means that a noun is masculine. Spanish nouns have a gender, which is either feminine (like la ...  \n",
       "globalization  <div class=\"dictionary-entry dictionary-neodict\"><div class=\"dictionary-neodict-entry-title\">globalization</div><a class=\"has-tooltip dictionary-neodict-first-part-of-speech part_of_speech\" data-toggle=\"tooltip\" href=\"http://www.spanishdict.com/guide/masculine-and-feminine-nouns\" title=\"A noun is a word referring to a person, animal, place, thing, feeling or idea (e.g. man, dog, house).\">noun</a><div class=\"dictionary-neodict-indent-1\"><span class=\"def\">1. </span><span class=\"context\">(general)</span> <div class=\"dictionary-neodict-indent-2\"><div class=\"dictionary-neodict-translation\"><span class=\"dictionary-neodict-translation-letters\">a. </span><a class=\"dictionary-neodict-translation-translation\" href=\"/translate/la%20globalizaci%C3%B3n\">la globalización</a><span class=\"def\"> </span><a class=\"has-tooltip def\" data-toggle=\"tooltip\" href=\"http://www.spanishdict.com/guide/masculine-and-feminine-nouns\" title=\"(f) means that a noun is feminine. Spanish nouns have a gender, which is e...  "
      ]
     },
     "execution_count": 71,
     "metadata": {},
     "output_type": "execute_result"
    }
   ],
   "source": [
    "pd.options.display.max_colwidth=1000\n",
    "tmp = to_anki.iloc[:100,[12,3,1]]\n",
    "tmp.head(20)"
   ]
  },
  {
   "cell_type": "code",
   "execution_count": 1829,
   "metadata": {},
   "outputs": [],
   "source": [
    "w_defs = economics_vocab_no_cognates.copy()\n",
    "w_defs = w_defs.merge(tmp,left_index=True,right_index=True,how=\"left\")"
   ]
  },
  {
   "cell_type": "code",
   "execution_count": 1617,
   "metadata": {},
   "outputs": [],
   "source": [
    "# Links for articles on the imf news website\n",
    "# Not currently using these but could be a nice additional resource\n",
    "\n",
    "found_links = []\n",
    "\n",
    "for i in range(97): \n",
    "    url=\"https://www.imf.org/es/News/Search?datefrom=1994-01-01&dateto=2018-11-02&page={}\".format(i)\n",
    "    content = requests.get(url).content\n",
    "    soup = BeautifulSoup(content,'lxml')\n",
    "    for link in soup.find_all(\"a\"):\n",
    "        if link.get(\"href\"):\n",
    "            if re.search(\"es/news/articles\",link['href'].lower()):\n",
    "                if link['href'] not in found_links:\n",
    "                    found_links.append(link['href'])\n",
    "\n",
    "    "
   ]
  },
  {
   "cell_type": "code",
   "execution_count": 1544,
   "metadata": {
    "scrolled": true
   },
   "outputs": [
    {
     "name": "stdout",
     "output_type": "stream",
     "text": [
      "0 currency\n",
      "1 poverty\n",
      "2 spending\n",
      "3 inequality\n",
      "4 banking\n",
      "5 macroeconomic\n",
      "6 deficit\n",
      "7 wage\n",
      "8 unemployment\n",
      "9 commodity\n",
      "10 output\n",
      "11 framework\n",
      "12 financing\n",
      "13 euro\n",
      "14 policymakers\n",
      "15 strengthen\n",
      "16 governance\n",
      "17 regulatory\n",
      "18 employment\n",
      "19 globalization\n",
      "20 liberalization\n",
      "21 enterprise\n",
      "22 moreover\n",
      "23 inflow\n",
      "24 liquidity\n",
      "25 expenditure\n",
      "26 lending\n",
      "27 equity\n",
      "28 further\n",
      "29 donor\n",
      "30 boost\n",
      "31 indicator\n",
      "32 tariff\n",
      "33 enhance\n",
      "34 trading\n",
      "35 instance\n",
      "36 wealth\n",
      "37 volatility\n",
      "38 boom\n",
      "39 creditor\n",
      "40 remittance\n",
      "41 imbalance\n",
      "42 transparency\n",
      "43 constraint\n",
      "44 arrangement\n",
      "45 surplus\n",
      "46 sustainable\n",
      "47 scheme\n",
      "48 borrow\n",
      "49 liability\n"
     ]
    }
   ],
   "source": [
    "# Tried to get definitions from Linguee. Linguee blocked me for sending too many requests\n",
    "\n",
    "for i, word in enumerate(economics_vocab_no_cognates.index[:50]):\n",
    "    try:\n",
    "        url = \"https://www.linguee.com/english-spanish/search?source=auto&query={}\".format(word)\n",
    "        content = requests.get(url).content\n",
    "        soup = BeautifulSoup(content,'lxml')\n",
    "        #soup.find_all(True, {'class':['sentence', 'left']},text=\"imf.org\")\n",
    "        print(i,word)\n",
    "        print(soup.find_all(text=\"imf.org\")[0].parent.parent.parent.parent.select(\".sentence.left\")[0].text)\n",
    "        print(soup.find_all(text=\"imf.org\")[0].parent.parent.parent.parent.select(\".sentence.right2\")[0].text)\n",
    "    except:\n",
    "        continue"
   ]
  },
  {
   "cell_type": "markdown",
   "metadata": {},
   "source": [
    "### Try getting definitions and examples from Word Reference"
   ]
  },
  {
   "cell_type": "code",
   "execution_count": 1408,
   "metadata": {},
   "outputs": [
    {
     "name": "stdout",
     "output_type": "stream",
     "text": [
      "CPU times: user 3.58 s, sys: 234 ms, total: 3.81 s\n",
      "Wall time: 18.3 s\n"
     ]
    }
   ],
   "source": [
    "# Try getting definitions and examples from Word Reference\n",
    "\n",
    "%%time\n",
    "import numpy as np\n",
    "my_list = []\n",
    "anki = pd.DataFrame({\"english\": [],\"spanish\": [],\"example\":[],\"translation\":[]})\n",
    "for word in economics_vocab_no_cognates.index[:50]:\n",
    "#for word in [\"macroeconomic\"]:\n",
    "    try:\n",
    "        definition = np.nan\n",
    "        example = np.nan\n",
    "        example_trans = np.nan\n",
    "        \n",
    "        url = \"https://www.wordreference.com/es/translation.asp?tranword={}\".format(word)\n",
    "        content = requests.get(url).content\n",
    "        soup = BeautifulSoup(content,'lxml')\n",
    "        definition = soup.select(\".ToWrd\")[1].text.split()[0]\n",
    "        example_tag = soup.select(\".FrEx\")[0]\n",
    "        example = example_tag.text\n",
    "        if example_tag.parent.nextSibling.nextSibling.select(\".ToEx\")[0]:\n",
    "            example_trans = example_tag.parent.nextSibling.nextSibling.select(\".ToEx\")[0].text\n",
    "        else:\n",
    "            example_trans = \"no translation found\"\n",
    "        tmp_df = pd.DataFrame({\"english\": [word],\"spanish\": [definition],\"example\":[example],\"translation\":[example_trans]})\n",
    "        anki = anki.append(tmp_df)\n",
    "    except:\n",
    "        try:\n",
    "            tmp_df = pd.DataFrame({\"english\": [word],\"spanish\": [definition],\"example\":[example],\"translation\":[np.nan]})\n",
    "            anki = anki.append(tmp_df)\n",
    "        except:\n",
    "            try:\n",
    "                tmp_df = pd.DataFrame({\"english\": [word],\"spanish\": [definition],\"example\":[np.nan],\"translation\":[np.nan]})\n",
    "                anki = anki.append(tmp_df)\n",
    "            except:\n",
    "                try:\n",
    "                    tmp_df = pd.DataFrame({\"english\": [word],\"spanish\": [np.nan],\"example\":[np.nan],\"translation\":[np.nan]})\n",
    "                    anki = anki.append(tmp_df)\n",
    "                except:\n",
    "                    pass\n",
    "        \n",
    "        "
   ]
  },
  {
   "cell_type": "code",
   "execution_count": 1362,
   "metadata": {},
   "outputs": [
    {
     "data": {
      "text/plain": [
       "<td class=\"ToEx\" colspan=\"2\">La globalización significa que debemos competir con trabajadores de todo el mundo.</td>"
      ]
     },
     "execution_count": 1362,
     "metadata": {},
     "output_type": "execute_result"
    }
   ],
   "source": [
    "example_tag.parent.nextSibling.nextSibling.select(\".ToEx\")[0]"
   ]
  },
  {
   "cell_type": "code",
   "execution_count": 1466,
   "metadata": {},
   "outputs": [],
   "source": [
    "anki[\"cloze\"] = 0\n",
    "anki = anki.dropna(axis=0)\n",
    "for i in range(len(anki)):\n",
    "    regex = r\"{}\\S*\".format(anki.iloc[i,0][:-2])\n",
    "    match = re.findall(regex,anki.iloc[i,2].lower())[0]\n",
    "    regex2 = r\" {}\\S*\".format(anki.iloc[i,1][:-4].lower())\n",
    "    if re.search(regex2,anki.iloc[i,3].lower()):\n",
    "        match2 = re.findall(regex2,anki.iloc[i,3].lower())[0]\n",
    "    else:\n",
    "        match2 = anki.iloc[i,1]\n",
    "    anki.iloc[i,4] = re.sub(match,\"{{{{c1::{}::{}}}}}\".format(match,match2),anki.iloc[i,2].lower())\n"
   ]
  },
  {
   "cell_type": "code",
   "execution_count": 1270,
   "metadata": {},
   "outputs": [],
   "source": [
    "# Trying Linguee\n",
    "my_list = []\n",
    "for word in economics_vocab_no_cognates.index[:10]:\n",
    "    try:\n",
    "        url = \"https://www.linguee.com/english-spanish/search?source=auto&query={}\".format(word)\n",
    "        content = requests.get(url).content\n",
    "        soup = BeautifulSoup(content,'lxml')\n",
    "        example1 = soup.select(\".tag_s\")[0].text\n",
    "        example2 = soup.select(\".tag_t\")[0].text\n",
    "        translation = soup.select(\".dictLink.featured\")[0].text\n",
    "        my_list.append((word,example1,example2,translation))\n",
    "    except:\n",
    "        continue"
   ]
  },
  {
   "cell_type": "code",
   "execution_count": 1564,
   "metadata": {},
   "outputs": [],
   "source": [
    "# imf news site\n",
    "\n",
    "url=\"https://www.imf.org/en/news/articles/2015/09/28/04/53/sonew101015a\"\n",
    "content = requests.get(url).content\n",
    "soup = BeautifulSoup(content,'lxml')\n",
    "english_t = soup.body.text"
   ]
  },
  {
   "cell_type": "markdown",
   "metadata": {},
   "source": [
    "### Web scraping articles from back to 1996"
   ]
  },
  {
   "cell_type": "code",
   "execution_count": 552,
   "metadata": {},
   "outputs": [],
   "source": [
    "# Web crawling function to get all links from a webpage using beautiful soup\n",
    "\n",
    "# WARNING: Take care before reusing this function. It is one of my first attempts at \n",
    "# writing a function to scrape multiple pages and is quite hacky. It works for this case but may not\n",
    "# work as desired in other cases.\n",
    "\n",
    "# Arguments are:\n",
    "# url: starting url\n",
    "# base_url: the url of website homepage\n",
    "# must_include: regex that the links must include (default is the wildcard character \".\")\n",
    "# must_not_include: regex that the links must not include (default is the nonsense string \"xasdfcasdf\" )\n",
    "\n",
    "def get_all_links(url,base_url,existing_links,must_include = \".\",must_not_include = \"xasdfcasdf\"):\n",
    "    content = requests.get(url).content\n",
    "    soup = BeautifulSoup(content,'lxml')\n",
    "    links = []\n",
    "    existing_links = existing_links.copy() # this copy is required to prevent modifying the original list (side effect)\n",
    "    for anchor in soup.findAll(\"a\"):\n",
    "        # if the anchor element isn't doesn't have a href, it isn't a proper url, so skip to next anchor\n",
    "        try:\n",
    "            link = anchor['href']\n",
    "        except:\n",
    "            continue \n",
    "            \n",
    "        full_link = None \n",
    "        if re.search(\"^http\",link): # if link starts with http it is either an external link or internal with full url\n",
    "            if base_url in link: # exclude links to external sites\n",
    "                full_link = link \n",
    "        elif re.search(\"^/\",link): # if link is an internat link to the base_url, create full link from base_url\n",
    "            full_link = (base_url + \"/\" + anchor['href'])\n",
    "        else:\n",
    "            full_link = (url + \"/\" + anchor['href']) # if link is\n",
    "            \n",
    "        # filter out links based on various conditions    \n",
    "        if ((full_link not in existing_links) # ignore links that have already been found\n",
    "             and full_link is not None\n",
    "             and (not re.search(\"#\",full_link)) # filter out links to id's on the same page\n",
    "             and (not re.search(\"htm.*htm\",full_link)) # this is hack because of some buggy behaviour - should fix\n",
    "             and  re.search(\"htm$\",full_link) \n",
    "             and re.search(must_include,full_link)\n",
    "             and (not re.search(must_not_include,full_link))):\n",
    "            \n",
    "            # add to list of links found on the whole site so far\n",
    "            # (the existing_links variable here has local scope only)\n",
    "            existing_links.append(full_link)\n",
    "            \n",
    "            # add to list of links found within this function invokation\n",
    "            links.append(full_link)\n",
    "            \n",
    "    return links\n"
   ]
  },
  {
   "cell_type": "code",
   "execution_count": 576,
   "metadata": {},
   "outputs": [
    {
     "name": "stdout",
     "output_type": "stream",
     "text": [
      "CPU times: user 1min 3s, sys: 3.35 s, total: 1min 6s\n",
      "Wall time: 6min 51s\n"
     ]
    }
   ],
   "source": [
    "%%time\n",
    "# Get all internal links from the imf finance and development publications website\n",
    "\n",
    "f = open(\"imf_links.txt\",\"w\") # file to save the links\n",
    "\n",
    "base_url = \"https://www.imf.org\"\n",
    "must_not_include = \"fandd/spa|fandd/fre|fandd/rus|fandd/chi|fandd/ara|fandd/ger\"\n",
    "all_links = []\n",
    "\n",
    "# The online magazine is published quaterly\n",
    "# loop over the years and quaters\n",
    "for year in range(1996,2019):\n",
    "    for month in (\"03\",\"06\",\"09\",\"12\"):\n",
    "        must_include = \"external/pubs/ft/fandd/{}/{}\".format(year,month) # only get links from current edition\n",
    "        current_existing = [] # initialise list of links that have been visited within this loop\n",
    "        current_existing.append(\"https://www.imf.org/external/pubs/ft/fandd/{}/{}\".format(year,month))\n",
    "        for link in current_existing:\n",
    "            # get all new links from within this link and add them to the list of links already found\n",
    "            current_existing.extend(get_all_links(link,base_url,current_existing,must_include,must_not_include))\n",
    "        all_links.extend(current_existing)\n",
    "        for link in current_existing:\n",
    "            f.write((link + \"\\n\"))\n",
    "\n",
    "f.close()\n"
   ]
  },
  {
   "cell_type": "code",
   "execution_count": 577,
   "metadata": {
    "scrolled": true
   },
   "outputs": [
    {
     "name": "stdout",
     "output_type": "stream",
     "text": [
      "CPU times: user 1min 9s, sys: 3.1 s, total: 1min 12s\n",
      "Wall time: 4min 4s\n"
     ]
    }
   ],
   "source": [
    "%%time\n",
    "\n",
    "# Visit each link\n",
    "# Extract all text\n",
    "# Break the text into sentences with nltk (natural language tool kit) sentence tokenizer \n",
    "\n",
    "import nltk\n",
    "all_sentences = []\n",
    "for link in all_links:\n",
    "    content = requests.get(link).content\n",
    "    soup = BeautifulSoup(content,'lxml')\n",
    "    text = soup.body.text\n",
    "    sentences = nltk.sent_tokenize(text) # this splits the text into sentences\n",
    "    all_sentences.extend(sentences)"
   ]
  }
 ],
 "metadata": {
  "kernelspec": {
   "display_name": "Python 3",
   "language": "python",
   "name": "python3"
  },
  "language_info": {
   "codemirror_mode": {
    "name": "ipython",
    "version": 3
   },
   "file_extension": ".py",
   "mimetype": "text/x-python",
   "name": "python",
   "nbconvert_exporter": "python",
   "pygments_lexer": "ipython3",
   "version": "3.6.5"
  }
 },
 "nbformat": 4,
 "nbformat_minor": 2
}
